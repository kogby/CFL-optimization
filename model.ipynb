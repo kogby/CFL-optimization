{
 "cells": [
  {
   "cell_type": "code",
   "execution_count": 1,
   "id": "586630ca-1e5e-492c-ab8b-bcda5a6f615f",
   "metadata": {
    "tags": []
   },
   "outputs": [],
   "source": [
    "from gurobipy import Model, GRB, quicksum\n",
    "import pandas as pd\n",
    "import numpy as np\n",
    "import time\n",
    "import datetime\n",
    "# import gurobipy as gp  # import the installed package"
   ]
  },
  {
   "cell_type": "code",
   "execution_count": 19,
   "id": "b1f1a32d-1a41-46c2-9b41-914788e9e20d",
   "metadata": {},
   "outputs": [],
   "source": [
    "'''\n",
    "Instance Parameters\n",
    "===============================\n",
    "Customer Location: I\n",
    "Facility Location: J\n",
    "Resource Type: K\n",
    "Competitor Facility Location: L\n",
    "\n",
    "U_LT : Max amount of resource k allowed to be allocated to facility j, Dim : (j, k)\n",
    "U_T : Max allocation limit for resource k, Dim : (k)\n",
    "U_L : Max capacity for facility j, Dim : (j)\n",
    "V : Attractiveness yield of resource k allocated to facility j, Dim : (j, k)\n",
    "H : Max demand for customer i, Dim : (i)\n",
    "D : Distance between customer i and facility j , Dim : (i, j)\n",
    "D_comp : Distance between customer i and competitor l, Dim : (i, l)\n",
    "F : Fixed cost for building facility j, Dim : (j)\n",
    "C : Cost per unit of extra attractiveness at facility j, Dim : (j)\n",
    "B : Cost of allocating a unit of resource k to facility j, Dim : (j, k)\n",
    "===============================\n",
    "'''\n",
    "U_LT = {}  \n",
    "U_T = {}  \n",
    "U_L = {}  \n",
    "V = {}   \n",
    "H = {}  \n",
    "D = {}  \n",
    "D_comp = {}  \n",
    "F = {}  \n",
    "C = {}  \n",
    "B = {} \n",
    "config = {\n",
    "    'M': 1000000,\n",
    "    'lambda_G': 0.5,\n",
    "    'i_amount' :2, #2個客戶\n",
    "    'j_amount' :3, #三個設廠地點\n",
    "    'k_amount' :2, #兩種可分配資源（大車, 小車)\n",
    "    'l_amount' :0, #對手數量\n",
    "    'U_LT': [[3,5], [3,5], [3,5]],\n",
    "    'U_T': [5,10],\n",
    "    'U_L': [6,6],\n",
    "    'V': [[10,2], [2,1], [0,2]],\n",
    "    'H': [100, 50],\n",
    "    'D': [[1,1,1],[1,1,1]],\n",
    "    'D_comp':[],\n",
    "    'A_opponent_bar': [], #對手吸引力\n",
    "    'F': [10, 10, 10],\n",
    "    'C': [1, 1, 1], \n",
    "    'B': [[1,1,1],[1,1,1],[1,1,1]],\n",
    "}\n",
    "\n",
    "I = set(range(0, config['i_amount']))  \n",
    "J = set(range(0, config['j_amount']))  \n",
    "K = set(range(0, config['k_amount']))  \n",
    "L = set(range(0, config['l_amount']))\n",
    "  \n",
    "def G(tai):\n",
    "    return 1 - np.exp(-config['lambda_G'] * tai)"
   ]
  },
  {
   "cell_type": "code",
   "execution_count": 27,
   "id": "4759d2cc",
   "metadata": {},
   "outputs": [
    {
     "ename": "TypeError",
     "evalue": "list indices must be integers or slices, not tuple",
     "output_type": "error",
     "traceback": [
      "\u001b[0;31m---------------------------------------------------------------------------\u001b[0m",
      "\u001b[0;31mTypeError\u001b[0m                                 Traceback (most recent call last)",
      "Cell \u001b[0;32mIn[27], line 1\u001b[0m\n\u001b[0;32m----> 1\u001b[0m \u001b[43mconfig\u001b[49m\u001b[43m[\u001b[49m\u001b[38;5;124;43m'\u001b[39;49m\u001b[38;5;124;43mD\u001b[39;49m\u001b[38;5;124;43m'\u001b[39;49m\u001b[43m]\u001b[49m\u001b[43m[\u001b[49m\u001b[38;5;241;43m1\u001b[39;49m\u001b[43m,\u001b[49m\u001b[43m \u001b[49m\u001b[38;5;241;43m2\u001b[39;49m\u001b[43m]\u001b[49m\n",
      "\u001b[0;31mTypeError\u001b[0m: list indices must be integers or slices, not tuple"
     ]
    }
   ],
   "source": [
    "config['D'][1, 2]"
   ]
  },
  {
   "cell_type": "code",
   "execution_count": 28,
   "id": "e63f71a6-0f61-48fe-9a26-35060a0bd732",
   "metadata": {},
   "outputs": [
    {
     "ename": "IndexError",
     "evalue": "list index out of range",
     "output_type": "error",
     "traceback": [
      "\u001b[0;31m---------------------------------------------------------------------------\u001b[0m",
      "\u001b[0;31mIndexError\u001b[0m                                Traceback (most recent call last)",
      "Cell \u001b[0;32mIn[28], line 31\u001b[0m\n\u001b[1;32m     29\u001b[0m model\u001b[38;5;241m.\u001b[39maddConstrs((x[j, k] \u001b[38;5;241m<\u001b[39m\u001b[38;5;241m=\u001b[39m config[\u001b[38;5;124m'\u001b[39m\u001b[38;5;124mU_LT\u001b[39m\u001b[38;5;124m'\u001b[39m][j][k] \u001b[38;5;241m*\u001b[39m y[j] \u001b[38;5;28;01mfor\u001b[39;00m j \u001b[38;5;129;01min\u001b[39;00m J \u001b[38;5;28;01mfor\u001b[39;00m k \u001b[38;5;129;01min\u001b[39;00m K), \u001b[38;5;124m\"\u001b[39m\u001b[38;5;124m(3.1) Resource only for built facility, and amount of type k for facility j is limit at U_LT[j, k]\u001b[39m\u001b[38;5;124m\"\u001b[39m)\n\u001b[1;32m     30\u001b[0m model\u001b[38;5;241m.\u001b[39maddConstrs((quicksum(x[j, k] \u001b[38;5;28;01mfor\u001b[39;00m j \u001b[38;5;129;01min\u001b[39;00m J) \u001b[38;5;241m<\u001b[39m\u001b[38;5;241m=\u001b[39m config[\u001b[38;5;124m'\u001b[39m\u001b[38;5;124mU_T\u001b[39m\u001b[38;5;124m'\u001b[39m][k] \u001b[38;5;28;01mfor\u001b[39;00m k \u001b[38;5;129;01min\u001b[39;00m K), \u001b[38;5;124m\"\u001b[39m\u001b[38;5;124m(3.2) The total amount of resource k is U_T[k]\u001b[39m\u001b[38;5;124m\"\u001b[39m)\n\u001b[0;32m---> 31\u001b[0m \u001b[43mmodel\u001b[49m\u001b[38;5;241;43m.\u001b[39;49m\u001b[43maddConstrs\u001b[49m\u001b[43m(\u001b[49m\u001b[43m(\u001b[49m\u001b[43mquicksum\u001b[49m\u001b[43m(\u001b[49m\u001b[43mx\u001b[49m\u001b[43m[\u001b[49m\u001b[43mj\u001b[49m\u001b[43m,\u001b[49m\u001b[43m \u001b[49m\u001b[43mk\u001b[49m\u001b[43m]\u001b[49m\u001b[43m \u001b[49m\u001b[38;5;28;43;01mfor\u001b[39;49;00m\u001b[43m \u001b[49m\u001b[43mk\u001b[49m\u001b[43m \u001b[49m\u001b[38;5;129;43;01min\u001b[39;49;00m\u001b[43m \u001b[49m\u001b[43mK\u001b[49m\u001b[43m)\u001b[49m\u001b[43m \u001b[49m\u001b[38;5;241;43m<\u001b[39;49m\u001b[38;5;241;43m=\u001b[39;49m\u001b[43m \u001b[49m\u001b[43mconfig\u001b[49m\u001b[43m[\u001b[49m\u001b[38;5;124;43m'\u001b[39;49m\u001b[38;5;124;43mU_L\u001b[39;49m\u001b[38;5;124;43m'\u001b[39;49m\u001b[43m]\u001b[49m\u001b[43m[\u001b[49m\u001b[43mj\u001b[49m\u001b[43m]\u001b[49m\u001b[43m \u001b[49m\u001b[38;5;28;43;01mfor\u001b[39;49;00m\u001b[43m \u001b[49m\u001b[43mj\u001b[49m\u001b[43m \u001b[49m\u001b[38;5;129;43;01min\u001b[39;49;00m\u001b[43m \u001b[49m\u001b[43mJ\u001b[49m\u001b[43m)\u001b[49m\u001b[43m,\u001b[49m\u001b[43m \u001b[49m\u001b[38;5;124;43m\"\u001b[39;49m\u001b[38;5;124;43m(3.3) The max resource sum for facility j is U_L[j]\u001b[39;49m\u001b[38;5;124;43m\"\u001b[39;49m\u001b[43m)\u001b[49m\n\u001b[1;32m     32\u001b[0m model\u001b[38;5;241m.\u001b[39maddConstrs((aX[j] \u001b[38;5;241m<\u001b[39m\u001b[38;5;241m=\u001b[39m config[\u001b[38;5;124m'\u001b[39m\u001b[38;5;124mM\u001b[39m\u001b[38;5;124m'\u001b[39m] \u001b[38;5;241m*\u001b[39m y[j] \u001b[38;5;28;01mfor\u001b[39;00m j \u001b[38;5;129;01min\u001b[39;00m J), \u001b[38;5;124m\"\u001b[39m\u001b[38;5;124m(3.4) Extra Attractiveness Limit\u001b[39m\u001b[38;5;124m\"\u001b[39m)\n\u001b[1;32m     34\u001b[0m \u001b[38;5;66;03m# Objective function: Maximize profit by attracting customers - costs\u001b[39;00m\n",
      "File \u001b[0;32msrc/gurobipy/model.pxi:3877\u001b[0m, in \u001b[0;36mgurobipy.Model.addConstrs\u001b[0;34m()\u001b[0m\n",
      "Cell \u001b[0;32mIn[28], line 31\u001b[0m, in \u001b[0;36m<genexpr>\u001b[0;34m(.0)\u001b[0m\n\u001b[1;32m     29\u001b[0m model\u001b[38;5;241m.\u001b[39maddConstrs((x[j, k] \u001b[38;5;241m<\u001b[39m\u001b[38;5;241m=\u001b[39m config[\u001b[38;5;124m'\u001b[39m\u001b[38;5;124mU_LT\u001b[39m\u001b[38;5;124m'\u001b[39m][j][k] \u001b[38;5;241m*\u001b[39m y[j] \u001b[38;5;28;01mfor\u001b[39;00m j \u001b[38;5;129;01min\u001b[39;00m J \u001b[38;5;28;01mfor\u001b[39;00m k \u001b[38;5;129;01min\u001b[39;00m K), \u001b[38;5;124m\"\u001b[39m\u001b[38;5;124m(3.1) Resource only for built facility, and amount of type k for facility j is limit at U_LT[j, k]\u001b[39m\u001b[38;5;124m\"\u001b[39m)\n\u001b[1;32m     30\u001b[0m model\u001b[38;5;241m.\u001b[39maddConstrs((quicksum(x[j, k] \u001b[38;5;28;01mfor\u001b[39;00m j \u001b[38;5;129;01min\u001b[39;00m J) \u001b[38;5;241m<\u001b[39m\u001b[38;5;241m=\u001b[39m config[\u001b[38;5;124m'\u001b[39m\u001b[38;5;124mU_T\u001b[39m\u001b[38;5;124m'\u001b[39m][k] \u001b[38;5;28;01mfor\u001b[39;00m k \u001b[38;5;129;01min\u001b[39;00m K), \u001b[38;5;124m\"\u001b[39m\u001b[38;5;124m(3.2) The total amount of resource k is U_T[k]\u001b[39m\u001b[38;5;124m\"\u001b[39m)\n\u001b[0;32m---> 31\u001b[0m model\u001b[38;5;241m.\u001b[39maddConstrs((quicksum(x[j, k] \u001b[38;5;28;01mfor\u001b[39;00m k \u001b[38;5;129;01min\u001b[39;00m K) \u001b[38;5;241m<\u001b[39m\u001b[38;5;241m=\u001b[39m \u001b[43mconfig\u001b[49m\u001b[43m[\u001b[49m\u001b[38;5;124;43m'\u001b[39;49m\u001b[38;5;124;43mU_L\u001b[39;49m\u001b[38;5;124;43m'\u001b[39;49m\u001b[43m]\u001b[49m\u001b[43m[\u001b[49m\u001b[43mj\u001b[49m\u001b[43m]\u001b[49m \u001b[38;5;28;01mfor\u001b[39;00m j \u001b[38;5;129;01min\u001b[39;00m J), \u001b[38;5;124m\"\u001b[39m\u001b[38;5;124m(3.3) The max resource sum for facility j is U_L[j]\u001b[39m\u001b[38;5;124m\"\u001b[39m)\n\u001b[1;32m     32\u001b[0m model\u001b[38;5;241m.\u001b[39maddConstrs((aX[j] \u001b[38;5;241m<\u001b[39m\u001b[38;5;241m=\u001b[39m config[\u001b[38;5;124m'\u001b[39m\u001b[38;5;124mM\u001b[39m\u001b[38;5;124m'\u001b[39m] \u001b[38;5;241m*\u001b[39m y[j] \u001b[38;5;28;01mfor\u001b[39;00m j \u001b[38;5;129;01min\u001b[39;00m J), \u001b[38;5;124m\"\u001b[39m\u001b[38;5;124m(3.4) Extra Attractiveness Limit\u001b[39m\u001b[38;5;124m\"\u001b[39m)\n\u001b[1;32m     34\u001b[0m \u001b[38;5;66;03m# Objective function: Maximize profit by attracting customers - costs\u001b[39;00m\n",
      "\u001b[0;31mIndexError\u001b[0m: list index out of range"
     ]
    }
   ],
   "source": [
    "# Initialize the model\n",
    "model = Model(\"Competitive Facility Location\")\n",
    "\n",
    "\n",
    "'''\n",
    "Decision Variables\n",
    "===============================\n",
    "y : Whether location j build facility or not, Dim: (j) , BINARY\n",
    "x : The amount of resource k allocated to location j, Dim: (j,k), CONTINUOUS\n",
    "aX : Extra attractiveness allocated to location j, Dim: (j), CONTINUOUS\n",
    "===============================\n",
    "\n",
    "Other Variables\n",
    "TA : Total Attractiveness for customer location i, Dim : (i), CONTINUOUS\n",
    "P : Probability of customer i choosing facility j, Dim : (i, j), CONTINUOUS\n",
    "===============================\n",
    "'''\n",
    "y = model.addVars(J, vtype=GRB.BINARY, name=\"y\") #3.14\n",
    "x = model.addVars(J, K, vtype=GRB.CONTINUOUS, name=\"x\", lb=0) # 3.12\n",
    "aX = model.addVars(J, vtype=GRB.CONTINUOUS, name=\"aX\", lb=0) # 3.13\n",
    "\n",
    "model.update()\n",
    "\n",
    "# P is sum of j for each i, so dim here is (i)\n",
    "P = [quicksum((quicksum(config['V'][j][k] * x[j, k] for k in K) + aX[j]) / (config['D'][i][j]**2) for j in J) for i in I] # 3.8\n",
    "TA = [ P[i] + quicksum(config['A_opponent_bar'][l] / (config['D_comp'][i, l]**2) for l in L) for i in I ] # 3.7\n",
    "\n",
    "# Constraints\n",
    "model.addConstrs((x[j, k] <= config['U_LT'][j][k] * y[j] for j in J for k in K), \"(3.1) Resource only for built facility, and amount of type k for facility j is limit at U_LT[j, k]\")\n",
    "model.addConstrs((quicksum(x[j, k] for j in J) <= config['U_T'][k] for k in K), \"(3.2) The total amount of resource k is U_T[k]\")\n",
    "model.addConstrs((quicksum(x[j, k] for k in K) <= config['U_L'][j] for j in J), \"(3.3) The max resource sum for facility j is U_L[j]\")\n",
    "model.addConstrs((aX[j] <= config['M'] * y[j] for j in J), \"(3.4) Extra Attractiveness Limit\")\n",
    "\n",
    "# Objective function: Maximize profit by attracting customers - costs\n",
    "objective = quicksum(config['H'][i] * G(TA[i]) * (P[i]/TA[i]) for i in I) \\\n",
    "          - quicksum(config['F'][j] * y[j] + config['C'][j] * aX[j] + quicksum(config['B'][j][k] * x[j, k] for k in K) for j in J)\n",
    "model.setObjective(objective, GRB.MAXIMIZE)\n",
    "\n",
    "# Solve and Output\n",
    "model.optimize()\n",
    "if model.status == GRB.OPTIMAL:\n",
    "    print(\"Optimal solution found.\")\n",
    "else:\n",
    "    print(\"No optimal solution found.\")\n"
   ]
  },
  {
   "cell_type": "code",
   "execution_count": null,
   "id": "a1040dc7-9f6f-44e0-a539-67d3e7a44445",
   "metadata": {},
   "outputs": [],
   "source": [
    "# for var in cfl.getVars():\n",
    "#     print(f\"{var.varName} = {var.x}\"\n",
    "# print(\"\")"
   ]
  }
 ],
 "metadata": {
  "kernelspec": {
   "display_name": "Python 3 (ipykernel)",
   "language": "python",
   "name": "python3"
  },
  "language_info": {
   "codemirror_mode": {
    "name": "ipython",
    "version": 3
   },
   "file_extension": ".py",
   "mimetype": "text/x-python",
   "name": "python",
   "nbconvert_exporter": "python",
   "pygments_lexer": "ipython3",
   "version": "3.9.6"
  }
 },
 "nbformat": 4,
 "nbformat_minor": 5
}
