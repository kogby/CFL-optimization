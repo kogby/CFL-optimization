{
 "cells": [
  {
   "cell_type": "code",
   "execution_count": 1,
   "id": "586630ca-1e5e-492c-ab8b-bcda5a6f615f",
   "metadata": {
    "tags": []
   },
   "outputs": [],
   "source": [
    "from gurobipy import Model, GRB, quicksum\n",
    "import pandas as pd\n",
    "import numpy as np\n",
    "import time\n",
    "import datetime\n",
    "# import gurobipy as gp  # import the installed package"
   ]
  },
  {
   "cell_type": "code",
   "execution_count": 2,
   "id": "be051b20",
   "metadata": {},
   "outputs": [],
   "source": [
    "U_LT = {}  \n",
    "U_T = {}  \n",
    "U_L = {}  \n",
    "V = {}   \n",
    "H = {}  \n",
    "D = {}  \n",
    "D_comp = {}  \n",
    "F = {}  \n",
    "C = {}  \n",
    "B = {} "
   ]
  },
  {
   "cell_type": "code",
   "execution_count": 3,
   "id": "b1f1a32d-1a41-46c2-9b41-914788e9e20d",
   "metadata": {},
   "outputs": [],
   "source": [
    "'''\n",
    "Instance Parameters\n",
    "===============================\n",
    "Customer Location: I\n",
    "Facility Location: J\n",
    "Resource Type: K\n",
    "Competitor Facility Location: L\n",
    "\n",
    "U_LT : Max amount of resource k allowed to be allocated to facility j, Dim : (j, k)\n",
    "U_T : Max allocation limit for resource k, Dim : (k)\n",
    "U_L : Max capacity for facility j, Dim : (j)\n",
    "V : Attractiveness yield of resource k allocated to facility j, Dim : (j, k)\n",
    "H : Max demand for customer i, Dim : (i)\n",
    "D : Distance between customer i and facility j , Dim : (i, j)\n",
    "D_comp : Distance between customer i and competitor l, Dim : (i, l)\n",
    "F : Fixed cost for building facility j, Dim : (j)\n",
    "C : Cost per unit of extra attractiveness at facility j, Dim : (j)\n",
    "B : Cost of allocating a unit of resource k to facility j, Dim : (j, k)\n",
    "===============================\n",
    "'''\n",
    "config = {\n",
    "    'M': 1000000,\n",
    "    'lambda_G': 0.5,\n",
    "    'i_amount' :2, #2個客戶\n",
    "    'j_amount' :3, #三個設廠地點\n",
    "    'k_amount' :2, #兩種可分配資源（大車, 小車)\n",
    "    'l_amount' :0, #對手數量\n",
    "    'U_LT': [[3,5], [3,5], [3,5]],\n",
    "    'U_T': [5,10],\n",
    "    'U_L': [6,6,6],\n",
    "    'V': [[10,2], [2,1], [0,2]],\n",
    "    'H': [100, 50],\n",
    "    'D': [[1,1,1],[1,1,1]],\n",
    "    'D_comp':[],\n",
    "    'A_opponent_bar': [], #對手吸引力\n",
    "    'F': [10, 10, 10],\n",
    "    'C': [1, 1, 1], \n",
    "    'B': [[1,1,1],[1,1,1],[1,1,1]],\n",
    "}\n",
    "\n",
    "I = set(range(0, config['i_amount']))  \n",
    "J = set(range(0, config['j_amount']))  \n",
    "K = set(range(0, config['k_amount']))  \n",
    "L = set(range(0, config['l_amount']))  "
   ]
  },
  {
   "cell_type": "code",
   "execution_count": 11,
   "id": "e63f71a6-0f61-48fe-9a26-35060a0bd732",
   "metadata": {},
   "outputs": [
    {
     "ename": "GurobiError",
     "evalue": "Divisor must be a constant",
     "output_type": "error",
     "traceback": [
      "\u001b[0;31m---------------------------------------------------------------------------\u001b[0m",
      "\u001b[0;31mTypeError\u001b[0m                                 Traceback (most recent call last)",
      "File \u001b[0;32msrc/gurobipy/linexpr.pxi:568\u001b[0m, in \u001b[0;36mgurobipy.LinExpr.__truediv__\u001b[0;34m()\u001b[0m\n",
      "\u001b[0;31mTypeError\u001b[0m: float() argument must be a string or a number, not 'Var'",
      "\nDuring handling of the above exception, another exception occurred:\n",
      "\u001b[0;31mGurobiError\u001b[0m                               Traceback (most recent call last)",
      "Cell \u001b[0;32mIn[11], line 50\u001b[0m\n\u001b[1;32m     48\u001b[0m model\u001b[38;5;241m.\u001b[39mupdate()\n\u001b[1;32m     49\u001b[0m \u001b[38;5;66;03m# Objective function: Maximize profit by attracting customers - costs\u001b[39;00m\n\u001b[0;32m---> 50\u001b[0m objective \u001b[38;5;241m=\u001b[39m \u001b[43mquicksum\u001b[49m\u001b[43m(\u001b[49m\u001b[43mconfig\u001b[49m\u001b[43m[\u001b[49m\u001b[38;5;124;43m'\u001b[39;49m\u001b[38;5;124;43mH\u001b[39;49m\u001b[38;5;124;43m'\u001b[39;49m\u001b[43m]\u001b[49m\u001b[43m[\u001b[49m\u001b[43mi\u001b[49m\u001b[43m]\u001b[49m\u001b[43m \u001b[49m\u001b[38;5;241;43m*\u001b[39;49m\u001b[43m \u001b[49m\u001b[43m(\u001b[49m\u001b[38;5;241;43m1\u001b[39;49m\u001b[43m \u001b[49m\u001b[38;5;241;43m-\u001b[39;49m\u001b[43m \u001b[49m\u001b[43mG_exp_vars\u001b[49m\u001b[43m[\u001b[49m\u001b[43mi\u001b[49m\u001b[43m]\u001b[49m\u001b[43m)\u001b[49m\u001b[43m \u001b[49m\u001b[38;5;241;43m*\u001b[39;49m\u001b[43m \u001b[49m\u001b[43m(\u001b[49m\u001b[43mP\u001b[49m\u001b[43m[\u001b[49m\u001b[43mi\u001b[49m\u001b[43m]\u001b[49m\u001b[38;5;241;43m/\u001b[39;49m\u001b[43mTA\u001b[49m\u001b[43m[\u001b[49m\u001b[43mi\u001b[49m\u001b[43m]\u001b[49m\u001b[43m)\u001b[49m\u001b[43m \u001b[49m\u001b[38;5;28;43;01mfor\u001b[39;49;00m\u001b[43m \u001b[49m\u001b[43mi\u001b[49m\u001b[43m \u001b[49m\u001b[38;5;129;43;01min\u001b[39;49;00m\u001b[43m \u001b[49m\u001b[43mI\u001b[49m\u001b[43m)\u001b[49m \\\n\u001b[1;32m     51\u001b[0m           \u001b[38;5;241m-\u001b[39m quicksum(config[\u001b[38;5;124m'\u001b[39m\u001b[38;5;124mF\u001b[39m\u001b[38;5;124m'\u001b[39m][j] \u001b[38;5;241m*\u001b[39m y[j] \u001b[38;5;241m+\u001b[39m config[\u001b[38;5;124m'\u001b[39m\u001b[38;5;124mC\u001b[39m\u001b[38;5;124m'\u001b[39m][j] \u001b[38;5;241m*\u001b[39m aX[j] \u001b[38;5;241m+\u001b[39m quicksum(config[\u001b[38;5;124m'\u001b[39m\u001b[38;5;124mB\u001b[39m\u001b[38;5;124m'\u001b[39m][j][k] \u001b[38;5;241m*\u001b[39m x[j, k] \u001b[38;5;28;01mfor\u001b[39;00m k \u001b[38;5;129;01min\u001b[39;00m K) \u001b[38;5;28;01mfor\u001b[39;00m j \u001b[38;5;129;01min\u001b[39;00m J)\n\u001b[1;32m     52\u001b[0m model\u001b[38;5;241m.\u001b[39msetObjective(objective, GRB\u001b[38;5;241m.\u001b[39mMAXIMIZE)\n\u001b[1;32m     54\u001b[0m \u001b[38;5;66;03m# Solve and Output\u001b[39;00m\n",
      "File \u001b[0;32msrc/gurobipy/gurobi.pxi:3842\u001b[0m, in \u001b[0;36mgurobipy.quicksum\u001b[0;34m()\u001b[0m\n",
      "Cell \u001b[0;32mIn[11], line 50\u001b[0m, in \u001b[0;36m<genexpr>\u001b[0;34m(.0)\u001b[0m\n\u001b[1;32m     48\u001b[0m model\u001b[38;5;241m.\u001b[39mupdate()\n\u001b[1;32m     49\u001b[0m \u001b[38;5;66;03m# Objective function: Maximize profit by attracting customers - costs\u001b[39;00m\n\u001b[0;32m---> 50\u001b[0m objective \u001b[38;5;241m=\u001b[39m quicksum(config[\u001b[38;5;124m'\u001b[39m\u001b[38;5;124mH\u001b[39m\u001b[38;5;124m'\u001b[39m][i] \u001b[38;5;241m*\u001b[39m (\u001b[38;5;241m1\u001b[39m \u001b[38;5;241m-\u001b[39m G_exp_vars[i]) \u001b[38;5;241m*\u001b[39m (\u001b[43mP\u001b[49m\u001b[43m[\u001b[49m\u001b[43mi\u001b[49m\u001b[43m]\u001b[49m\u001b[38;5;241;43m/\u001b[39;49m\u001b[43mTA\u001b[49m\u001b[43m[\u001b[49m\u001b[43mi\u001b[49m\u001b[43m]\u001b[49m) \u001b[38;5;28;01mfor\u001b[39;00m i \u001b[38;5;129;01min\u001b[39;00m I) \\\n\u001b[1;32m     51\u001b[0m           \u001b[38;5;241m-\u001b[39m quicksum(config[\u001b[38;5;124m'\u001b[39m\u001b[38;5;124mF\u001b[39m\u001b[38;5;124m'\u001b[39m][j] \u001b[38;5;241m*\u001b[39m y[j] \u001b[38;5;241m+\u001b[39m config[\u001b[38;5;124m'\u001b[39m\u001b[38;5;124mC\u001b[39m\u001b[38;5;124m'\u001b[39m][j] \u001b[38;5;241m*\u001b[39m aX[j] \u001b[38;5;241m+\u001b[39m quicksum(config[\u001b[38;5;124m'\u001b[39m\u001b[38;5;124mB\u001b[39m\u001b[38;5;124m'\u001b[39m][j][k] \u001b[38;5;241m*\u001b[39m x[j, k] \u001b[38;5;28;01mfor\u001b[39;00m k \u001b[38;5;129;01min\u001b[39;00m K) \u001b[38;5;28;01mfor\u001b[39;00m j \u001b[38;5;129;01min\u001b[39;00m J)\n\u001b[1;32m     52\u001b[0m model\u001b[38;5;241m.\u001b[39msetObjective(objective, GRB\u001b[38;5;241m.\u001b[39mMAXIMIZE)\n\u001b[1;32m     54\u001b[0m \u001b[38;5;66;03m# Solve and Output\u001b[39;00m\n",
      "File \u001b[0;32msrc/gurobipy/linexpr.pxi:570\u001b[0m, in \u001b[0;36mgurobipy.LinExpr.__truediv__\u001b[0;34m()\u001b[0m\n",
      "\u001b[0;31mGurobiError\u001b[0m: Divisor must be a constant"
     ]
    }
   ],
   "source": [
    "# Initialize the model\n",
    "model = Model(\"Competitive Facility Location\")\n",
    "\n",
    "\n",
    "'''\n",
    "Decision Variables\n",
    "===============================\n",
    "y : Whether location j build facility or not, Dim: (j) , BINARY\n",
    "x : The amount of resource k allocated to location j, Dim: (j,k), CONTINUOUS\n",
    "aX : Extra attractiveness allocated to location j, Dim: (j), CONTINUOUS\n",
    "===============================\n",
    "\n",
    "Other Variables\n",
    "TA : Total Attractiveness for customer location i, Dim : (i), CONTINUOUS\n",
    "P : Probability of customer i choosing facility j, Dim : (i, j), CONTINUOUS\n",
    "===============================\n",
    "'''\n",
    "y = model.addVars(J, vtype=GRB.BINARY, name=\"y\") #3.14\n",
    "x = model.addVars(J, K, vtype=GRB.CONTINUOUS, name=\"x\", lb=0) # 3.12\n",
    "aX = model.addVars(J, vtype=GRB.CONTINUOUS, name=\"aX\", lb=0) # 3.13\n",
    "# def G(tai):\n",
    "#     return 1 - np.exp(-config['lambda_G'] * tai)\n",
    "TA = model.addVars(I, vtype=GRB.CONTINUOUS, name=\"TA\")\n",
    "TAi_lambda = model.addVars(I, vtype=GRB.CONTINUOUS, name=\"TAi*lambda\")\n",
    "G_exp_vars = model.addVars(I, vtype=GRB.CONTINUOUS, name=\"G_exp_vars\")\n",
    "\n",
    "# P is sum of j for each i, so dim here is (i)\n",
    "P = [quicksum((quicksum(config['V'][j][k] * x[j, k] for k in K) + aX[j]) / (config['D'][i][j]**2) for j in J) for i in I] # 3.8\n",
    "\n",
    "# Constraints\n",
    "model.addConstrs((x[j, k] <= config['U_LT'][j][k] * y[j] for j in J for k in K), \"(3.1) Resource only for built facility, and amount of type k for facility j is limit at U_LT[j, k]\")\n",
    "model.addConstrs((quicksum(x[j, k] for j in J) <= config['U_T'][k] for k in K), \"(3.2) The total amount of resource k is U_T[k]\")\n",
    "model.addConstrs((quicksum(x[j, k] for k in K) <= config['U_L'][j] for j in J), \"(3.3) The max resource sum for facility j is U_L[j]\")\n",
    "model.addConstrs((aX[j] <= config['M'] * y[j] for j in J), \"(3.4) Extra Attractiveness Limit\")\n",
    "\n",
    "## TA的限制式, 因為不能讓 G_exp中 addGenConstrExp內的變數為多個變數的線性組合所以要另外創TA變數\n",
    "# TA = [ P[i] + quicksum(config['A_opponent_bar'][l] / (config['D_comp'][i, l]**2) for l in L) for i in I ] # 3.7\n",
    "for i in I:\n",
    "    model.addConstr(TA[i] == P[i] + quicksum(config['A_opponent_bar'][l] / (config['D_comp'][i, l]**2) for l in L), name=f\"TA_constr_{i}\")\n",
    "model.addConstrs((TAi_lambda[i] == config['lambda_G'] * TA[i] for i in I), \"tai*lambda constr\")\n",
    "## G的計算, gurobi無法直接在目標式有exponential\n",
    "for i in I:\n",
    "    # adjusted_tai = config['lambda_G'] * TA[i]\n",
    "    # model.addGenConstrExp(adjusted_tai, G_exp_vars[i], name=f\"G_exp_constr_{i}\")\n",
    "    model.addGenConstrExp(TAi_lambda[i], G_exp_vars[i], name=f\"G_exp_constr_{i}\")\n",
    "\n",
    "\n",
    "model.update()\n",
    "# Objective function: Maximize profit by attracting customers - costs\n",
    "objective = quicksum(config['H'][i] * (1 - G_exp_vars[i]) * (P[i]/TA[i]) for i in I) \\\n",
    "          - quicksum(config['F'][j] * y[j] + config['C'][j] * aX[j] + quicksum(config['B'][j][k] * x[j, k] for k in K) for j in J)\n",
    "model.setObjective(objective, GRB.MAXIMIZE)\n",
    "\n",
    "# Solve and Output\n",
    "model.optimize()\n",
    "if model.status == GRB.OPTIMAL:\n",
    "    print(\"Optimal solution found.\")\n",
    "else:\n",
    "    print(\"No optimal solution found.\")\n"
   ]
  },
  {
   "cell_type": "code",
   "execution_count": 6,
   "id": "a1040dc7-9f6f-44e0-a539-67d3e7a44445",
   "metadata": {},
   "outputs": [],
   "source": [
    "# for var in cfl.getVars():\n",
    "#     print(f\"{var.varName} = {var.x}\"\n",
    "# print(\"\")"
   ]
  },
  {
   "cell_type": "markdown",
   "id": "eaacff37",
   "metadata": {},
   "source": [
    "# References\n",
    "\n",
    "## G calculation substitude exponential\n",
    "https://www.gurobi.com/documentation/10.0/refman/py_model_agc_exp.html\n",
    "https://support.gurobi.com/hc/en-us/community/posts/360077178491-Build-an-objective-function-with-Log-and-Exponential-inside-\n",
    "https://support.gurobi.com/hc/en-us/community/posts/10481250723217-How-to-add-log-and-exponential-term-in-objective-function"
   ]
  }
 ],
 "metadata": {
  "kernelspec": {
   "display_name": "Python 3 (ipykernel)",
   "language": "python",
   "name": "python3"
  },
  "language_info": {
   "codemirror_mode": {
    "name": "ipython",
    "version": 3
   },
   "file_extension": ".py",
   "mimetype": "text/x-python",
   "name": "python",
   "nbconvert_exporter": "python",
   "pygments_lexer": "ipython3",
   "version": "3.9.6"
  }
 },
 "nbformat": 4,
 "nbformat_minor": 5
}
