{
 "cells": [
  {
   "cell_type": "code",
   "execution_count": 1,
   "id": "586630ca-1e5e-492c-ab8b-bcda5a6f615f",
   "metadata": {
    "tags": []
   },
   "outputs": [
    {
     "name": "stdout",
     "output_type": "stream",
     "text": [
      "python version: 3.9.18 (main, Sep 11 2023, 08:38:23) \n",
      "[Clang 14.0.6 ]\n",
      "gurobipy version: (11, 0, 0)\n"
     ]
    }
   ],
   "source": [
    "import time\n",
    "import datetime\n",
    "import os\n",
    "import yaml\n",
    "import math\n",
    "import sys\n",
    "import gurobipy\n",
    "import pandas as pd\n",
    "import numpy as np\n",
    "from gurobipy import Model, GRB, quicksum\n",
    "\n",
    "print(f\"python version: {sys.version}\")\n",
    "print(f\"gurobipy version: {gurobipy.gurobi.version()}\")\n"
   ]
  },
  {
   "cell_type": "code",
   "execution_count": 2,
   "id": "32619ff1",
   "metadata": {},
   "outputs": [
    {
     "ename": "FileNotFoundError",
     "evalue": "[Errno 2] No such file or directory: '/Users/kogby/大學/研究/CFL-optimization/Instance/Instances/instance_F_1.yaml'",
     "output_type": "error",
     "traceback": [
      "\u001b[0;31m---------------------------------------------------------------------------\u001b[0m",
      "\u001b[0;31mFileNotFoundError\u001b[0m                         Traceback (most recent call last)",
      "Cell \u001b[0;32mIn[2], line 20\u001b[0m\n\u001b[1;32m     17\u001b[0m     \u001b[38;5;28;01mreturn\u001b[39;00m data\n\u001b[1;32m     19\u001b[0m \u001b[38;5;66;03m# 假設您想加載的檔案名為 'instance_1.yaml'\u001b[39;00m\n\u001b[0;32m---> 20\u001b[0m config \u001b[38;5;241m=\u001b[39m \u001b[43mload_specific_yaml\u001b[49m\u001b[43m(\u001b[49m\u001b[38;5;124;43m'\u001b[39;49m\u001b[38;5;124;43minstance_F_1.yaml\u001b[39;49m\u001b[38;5;124;43m'\u001b[39;49m\u001b[43m)\u001b[49m\n\u001b[1;32m     21\u001b[0m config[\u001b[38;5;124m'\u001b[39m\u001b[38;5;124mlambda_for_G\u001b[39m\u001b[38;5;124m'\u001b[39m] \u001b[38;5;241m=\u001b[39m \u001b[38;5;241m6e-6\u001b[39m\n\u001b[1;32m     22\u001b[0m config[\u001b[38;5;124m'\u001b[39m\u001b[38;5;124mM\u001b[39m\u001b[38;5;124m'\u001b[39m] \u001b[38;5;241m=\u001b[39m \u001b[38;5;241m1000\u001b[39m\n",
      "Cell \u001b[0;32mIn[2], line 15\u001b[0m, in \u001b[0;36mload_specific_yaml\u001b[0;34m(filename)\u001b[0m\n\u001b[1;32m      5\u001b[0m \u001b[38;5;250m\u001b[39m\u001b[38;5;124;03m\"\"\"\u001b[39;00m\n\u001b[1;32m      6\u001b[0m \u001b[38;5;124;03m加載指定的 YAML 檔案。\u001b[39;00m\n\u001b[1;32m      7\u001b[0m \u001b[38;5;124;03m\u001b[39;00m\n\u001b[0;32m   (...)\u001b[0m\n\u001b[1;32m     12\u001b[0m \u001b[38;5;124;03mdict: YAML 檔案內容。\u001b[39;00m\n\u001b[1;32m     13\u001b[0m \u001b[38;5;124;03m\"\"\"\u001b[39;00m\n\u001b[1;32m     14\u001b[0m file_path \u001b[38;5;241m=\u001b[39m os\u001b[38;5;241m.\u001b[39mpath\u001b[38;5;241m.\u001b[39mjoin(INSTANCES_DIR, filename)\n\u001b[0;32m---> 15\u001b[0m \u001b[38;5;28;01mwith\u001b[39;00m \u001b[38;5;28;43mopen\u001b[39;49m\u001b[43m(\u001b[49m\u001b[43mfile_path\u001b[49m\u001b[43m,\u001b[49m\u001b[43m \u001b[49m\u001b[38;5;124;43m'\u001b[39;49m\u001b[38;5;124;43mr\u001b[39;49m\u001b[38;5;124;43m'\u001b[39;49m\u001b[43m)\u001b[49m \u001b[38;5;28;01mas\u001b[39;00m file:\n\u001b[1;32m     16\u001b[0m     data \u001b[38;5;241m=\u001b[39m yaml\u001b[38;5;241m.\u001b[39msafe_load(file)\n\u001b[1;32m     17\u001b[0m \u001b[38;5;28;01mreturn\u001b[39;00m data\n",
      "File \u001b[0;32m~/miniconda3/envs/Jupyter/lib/python3.9/site-packages/IPython/core/interactiveshell.py:286\u001b[0m, in \u001b[0;36m_modified_open\u001b[0;34m(file, *args, **kwargs)\u001b[0m\n\u001b[1;32m    279\u001b[0m \u001b[38;5;28;01mif\u001b[39;00m file \u001b[38;5;129;01min\u001b[39;00m {\u001b[38;5;241m0\u001b[39m, \u001b[38;5;241m1\u001b[39m, \u001b[38;5;241m2\u001b[39m}:\n\u001b[1;32m    280\u001b[0m     \u001b[38;5;28;01mraise\u001b[39;00m \u001b[38;5;167;01mValueError\u001b[39;00m(\n\u001b[1;32m    281\u001b[0m         \u001b[38;5;124mf\u001b[39m\u001b[38;5;124m\"\u001b[39m\u001b[38;5;124mIPython won\u001b[39m\u001b[38;5;124m'\u001b[39m\u001b[38;5;124mt let you open fd=\u001b[39m\u001b[38;5;132;01m{\u001b[39;00mfile\u001b[38;5;132;01m}\u001b[39;00m\u001b[38;5;124m by default \u001b[39m\u001b[38;5;124m\"\u001b[39m\n\u001b[1;32m    282\u001b[0m         \u001b[38;5;124m\"\u001b[39m\u001b[38;5;124mas it is likely to crash IPython. If you know what you are doing, \u001b[39m\u001b[38;5;124m\"\u001b[39m\n\u001b[1;32m    283\u001b[0m         \u001b[38;5;124m\"\u001b[39m\u001b[38;5;124myou can use builtins\u001b[39m\u001b[38;5;124m'\u001b[39m\u001b[38;5;124m open.\u001b[39m\u001b[38;5;124m\"\u001b[39m\n\u001b[1;32m    284\u001b[0m     )\n\u001b[0;32m--> 286\u001b[0m \u001b[38;5;28;01mreturn\u001b[39;00m \u001b[43mio_open\u001b[49m\u001b[43m(\u001b[49m\u001b[43mfile\u001b[49m\u001b[43m,\u001b[49m\u001b[43m \u001b[49m\u001b[38;5;241;43m*\u001b[39;49m\u001b[43margs\u001b[49m\u001b[43m,\u001b[49m\u001b[43m \u001b[49m\u001b[38;5;241;43m*\u001b[39;49m\u001b[38;5;241;43m*\u001b[39;49m\u001b[43mkwargs\u001b[49m\u001b[43m)\u001b[49m\n",
      "\u001b[0;31mFileNotFoundError\u001b[0m: [Errno 2] No such file or directory: '/Users/kogby/大學/研究/CFL-optimization/Instance/Instances/instance_F_1.yaml'"
     ]
    }
   ],
   "source": [
    "# 添加相對路徑到 sys.path\n",
    "sys.path.append('../')  \n",
    "from path_config import INSTANCES_DIR\n",
    "def load_specific_yaml(filename):\n",
    "    \"\"\"\n",
    "    加載指定的 YAML 檔案。\n",
    "    \n",
    "    Parameters:\n",
    "    filename (str): 在 instances 資料夾中的 YAML 檔案名。\n",
    "    \n",
    "    Returns:\n",
    "    dict: YAML 檔案內容。\n",
    "    \"\"\"\n",
    "    file_path = os.path.join(INSTANCES_DIR, filename)\n",
    "    with open(file_path, 'r') as file:\n",
    "        data = yaml.safe_load(file)\n",
    "    return data\n",
    "\n",
    "# Load experiments yaml\n",
    "config = load_specific_yaml('instance_Manual_0.yaml')\n",
    "config['lambda_for_G'] = 6e-6\n",
    "config['M'] = 1000\n",
    "config"
   ]
  },
  {
   "cell_type": "code",
   "execution_count": null,
   "id": "b1f1a32d-1a41-46c2-9b41-914788e9e20d",
   "metadata": {},
   "outputs": [
    {
     "data": {
      "text/plain": [
       "'\\nDecision Variables\\n===============================\\ny : Whether location j build facility or not, Dim: (j) , BINARY\\nx : The amount of resource k allocated to location j, Dim: (j,k), CONTINUOUS\\naX : Extra attractiveness allocated to location j, Dim: (j), CONTINUOUS\\n===============================\\n\\nOther Variables\\nu : Utility of facility j to customer point i, Dim:(i, j), CONTINUOUS\\nP : Probability of customer i choosing facility j, Dim : (i, j), CONTINUOUS\\nTA : Total Attractiveness for customer location i, Dim : (i), CONTINUOUS\\n===============================\\n'"
      ]
     },
     "execution_count": 28,
     "metadata": {},
     "output_type": "execute_result"
    }
   ],
   "source": [
    "I = set(range(0, config['i_amount']))  \n",
    "J = set(range(0, config['j_amount']))  \n",
    "K = set(range(0, config['k_amount']))  \n",
    "L = set(range(0, config['l_amount']))  \n",
    "'''\n",
    "Decision Variables\n",
    "===============================\n",
    "y : Whether location j build facility or not, Dim: (j) , BINARY\n",
    "x : The amount of resource k allocated to location j, Dim: (j,k), CONTINUOUS\n",
    "aX : Extra attractiveness allocated to location j, Dim: (j), CONTINUOUS\n",
    "===============================\n",
    "\n",
    "Other Variables\n",
    "u : Utility of facility j to customer point i, Dim:(i, j), CONTINUOUS\n",
    "P : Probability of customer i choosing facility j, Dim : (i, j), CONTINUOUS\n",
    "TA : Total Attractiveness for customer location i, Dim : (i), CONTINUOUS\n",
    "===============================\n",
    "'''"
   ]
  },
  {
   "cell_type": "code",
   "execution_count": null,
   "id": "e63f71a6-0f61-48fe-9a26-35060a0bd732",
   "metadata": {},
   "outputs": [
    {
     "name": "stdout",
     "output_type": "stream",
     "text": [
      "Set parameter NumericFocus to value 3\n",
      "Gurobi Optimizer version 11.0.0 build v11.0.0rc2 (mac64[x86] - Darwin 21.5.0 21F79)\n",
      "\n",
      "CPU model: Intel(R) Core(TM) i5-1038NG7 CPU @ 2.00GHz\n",
      "Thread count: 4 physical cores, 8 logical processors, using up to 8 threads\n",
      "\n",
      "Optimize a model with 20 rows, 27 columns and 48 nonzeros\n",
      "Model fingerprint: 0x6c08d05e\n",
      "Model has 6 quadratic objective terms\n",
      "Model has 6 quadratic constraints\n",
      "Model has 2 general constraints\n",
      "Variable types: 24 continuous, 3 integer (3 binary)\n",
      "Coefficient statistics:\n",
      "  Matrix range     [6e-06, 1e+03]\n",
      "  QMatrix range    [1e+00, 1e+00]\n",
      "  QLMatrix range   [1e+00, 1e+00]\n",
      "  Objective range  [1e+00, 3e+01]\n",
      "  QObjective range [5e+01, 6e+01]\n",
      "  Bounds range     [1e-08, 1e+05]\n",
      "  RHS range        [7e-03, 1e+01]\n",
      "Presolve added 3 rows and 50 columns\n",
      "Presolve time: 0.00s\n",
      "\n",
      "Explored 0 nodes (0 simplex iterations) in 0.09 seconds (0.00 work units)\n",
      "Thread count was 1 (of 8 available processors)\n",
      "\n",
      "Solution count 0\n",
      "No other solutions better than -1e+100\n",
      "\n",
      "Model is infeasible\n",
      "Best objective -, best bound -, gap -\n",
      "No optimal solution found.\n",
      "Gurobi Optimizer version 11.0.0 build v11.0.0rc2 (mac64[x86] - Darwin 21.5.0 21F79)\n",
      "\n",
      "CPU model: Intel(R) Core(TM) i5-1038NG7 CPU @ 2.00GHz\n",
      "Thread count: 4 physical cores, 8 logical processors, using up to 8 threads\n",
      "\n",
      "\n",
      "Warning: PWL approximation of function constraints may cause unreliable IIS result!\n",
      "\n",
      "Computing Irreducible Inconsistent Subsystem (IIS)...\n",
      "\n",
      "           Constraints          |            Bounds           |  Runtime\n",
      "      Min       Max     Guess   |   Min       Max     Guess   |\n",
      "--------------------------------------------------------------------------\n",
      "        0        28         -         0        34         -           0s\n",
      "       10        10        10         3         3         3           0s\n",
      "\n",
      "IIS computed: 10 constraints, 3 bounds\n",
      "IIS runtime: 0.05 seconds (0.00 work units)\n",
      "IIS written to file 'model_iis.mps'\n"
     ]
    }
   ],
   "source": [
    "# Initialize the model\n",
    "model = Model(\"Competitive Facility Location\")\n",
    "model.setParam('NumericFocus', 3)\n",
    "y = model.addVars(J, vtype=GRB.BINARY, name=\"y\") #3.14\n",
    "x = model.addVars(J, K, vtype=GRB.CONTINUOUS, name=\"x\", lb=0) # 3.12\n",
    "aX = model.addVars(J, vtype=GRB.CONTINUOUS, name=\"aX\", lb=0) # 3.13\n",
    "\n",
    "u = model.addVars(I, J, vtype=GRB.CONTINUOUS, name=\"utility(u)\", lb=0) # utility var(3.5)\n",
    "P = model.addVars(I, J, vtype=GRB.CONTINUOUS, name=\"P, utility vs TA ratio\", lb=0.0, ub=1.0) # Probability of i choosing j\n",
    "TA = model.addVars(I, vtype=GRB.CONTINUOUS, name=\"TA\", lb=0.00000001)\n",
    "TAi_lambda = model.addVars(I, vtype=GRB.CONTINUOUS, name=\"negative TAi*lambda(e's power)\", lb= -100000, ub= -0.000001) #-lambda*TAi\n",
    "G_exp_vars = model.addVars(I, vtype=GRB.CONTINUOUS, name=\"G_exp_vars\", lb=0.001, ub=0.999) #e^-(lambda*TAi), ub=0.5\n",
    "\n",
    "model.update()\n",
    "\n",
    "model.addConstrs((x[j, k] <= config['U_LT'][j][k] * y[j] for j in J for k in K), \"(3.1) Resource only for built facility, and amount of type k for facility j is limit at U_LT[j, k]\")\n",
    "model.addConstrs((quicksum(x[j, k] for j in J) <= config['U_T'][k] for k in K), \"(3.2) The total amount of resource k is U_T[k]\")\n",
    "model.addConstrs((quicksum(x[j, k] for k in K) <= config['U_L'][j] for j in J), \"(3.3) The max resource sum for facility j is U_L[j]\")\n",
    "model.addConstrs((aX[j] <= config['M'] * y[j] for j in J), \"(3.4) Extra Attractiveness Limit\")\n",
    "\n",
    "model.addConstrs((u[i, j] == ((quicksum(config['V'][j][k] * x[j, k] for k in K) + aX[j]) / (config['D'][i][j]**2)) for i in I for j in J), \"(3.5) utility for facility j to customer i\")\n",
    "model.addConstrs((u[i, j] == P[i, j] * TA[i] for i in I for j in J), \"(3.8) calculate P by uij/TAi, 分母要是常數所以用乘的\")\n",
    "## TA的限制式, 因為不能讓 G_exp中 addGenConstrExp內的變數為多個變數的線性組合所以要另外創TA變數\n",
    "model.addConstrs((TA[i] == quicksum(u[i, j] for j in J) + (quicksum(config['A_opponent_bar'][l] / (config['D_comp'][i][l]**2) for l in L)) for i in I), \"(3.7) calculate total TA by u and A_bar\")\n",
    "\n",
    "## G的計算\n",
    "# def G(tai):\n",
    "#     return 1 - np.exp(-config['lambda_for_G'] * tai)\n",
    "model.addConstrs((TAi_lambda[i] == (-config['lambda_for_G'] * TA[i]) for i in I), \"negative tai*lambda constr\")\n",
    "# Gurobi無法直接在目標式有exponential\n",
    "for i in I:\n",
    "    model.addGenConstrExpA(TAi_lambda[i], G_exp_vars[i], math.e, name=f\"G_exp_constr_{i}\")\n",
    "\n",
    "\n",
    "\n",
    "# Objective function: Maximize profit by attracting customers - costs\n",
    "objective = ((quicksum(config['H'][i] * (1 - G_exp_vars[i]) * (quicksum(P[i, j] for j in J)) for i in I)) \\\n",
    "          - (quicksum(config['F'][j] * y[j] + config['C'][j] * aX[j] + quicksum(config['B'][j][k] * x[j, k] for k in K) for j in J)))\n",
    "model.setObjective(objective, GRB.MAXIMIZE)\n",
    "\n",
    "\n",
    "# Solve and Output\n",
    "model.optimize()\n",
    "if model.status == GRB.OPTIMAL:\n",
    "    print(\"Optimal solution found.\")\n",
    "else:\n",
    "    print(\"No optimal solution found.\")\n",
    "    model.computeIIS()\n",
    "    # 将IIS输出到文件\n",
    "    # model.write(\"model_iis.mps\")\n",
    "    print(\"IIS written to file 'model_iis.mps'\")\n",
    "\n"
   ]
  },
  {
   "cell_type": "code",
   "execution_count": null,
   "id": "a1040dc7-9f6f-44e0-a539-67d3e7a44445",
   "metadata": {},
   "outputs": [
    {
     "ename": "AttributeError",
     "evalue": "Unable to retrieve attribute 'x'",
     "output_type": "error",
     "traceback": [
      "\u001b[0;31m---------------------------------------------------------------------------\u001b[0m",
      "\u001b[0;31mAttributeError\u001b[0m                            Traceback (most recent call last)",
      "Cell \u001b[0;32mIn[30], line 2\u001b[0m\n\u001b[1;32m      1\u001b[0m \u001b[38;5;28;01mfor\u001b[39;00m var \u001b[38;5;129;01min\u001b[39;00m model\u001b[38;5;241m.\u001b[39mgetVars():\n\u001b[0;32m----> 2\u001b[0m     \u001b[38;5;28mprint\u001b[39m(\u001b[38;5;124mf\u001b[39m\u001b[38;5;124m\"\u001b[39m\u001b[38;5;132;01m{\u001b[39;00mvar\u001b[38;5;241m.\u001b[39mvarName\u001b[38;5;132;01m}\u001b[39;00m\u001b[38;5;124m = \u001b[39m\u001b[38;5;132;01m{\u001b[39;00mvar\u001b[38;5;241m.\u001b[39mx\u001b[38;5;132;01m}\u001b[39;00m\u001b[38;5;124m\"\u001b[39m)\n\u001b[1;32m      3\u001b[0m \u001b[38;5;28mprint\u001b[39m(\u001b[38;5;124m\"\u001b[39m\u001b[38;5;124m\"\u001b[39m)\n",
      "File \u001b[0;32msrc/gurobipy/var.pxi:125\u001b[0m, in \u001b[0;36mgurobipy.Var.__getattr__\u001b[0;34m()\u001b[0m\n",
      "File \u001b[0;32msrc/gurobipy/var.pxi:153\u001b[0m, in \u001b[0;36mgurobipy.Var.getAttr\u001b[0;34m()\u001b[0m\n",
      "File \u001b[0;32msrc/gurobipy/attrutil.pxi:103\u001b[0m, in \u001b[0;36mgurobipy._getattr\u001b[0;34m()\u001b[0m\n",
      "\u001b[0;31mAttributeError\u001b[0m: Unable to retrieve attribute 'x'"
     ]
    }
   ],
   "source": [
    "for var in model.getVars():\n",
    "    print(f\"{var.varName} = {var.x}\")\n",
    "print(\"\")"
   ]
  },
  {
   "cell_type": "code",
   "execution_count": null,
   "id": "c7a48575",
   "metadata": {},
   "outputs": [],
   "source": []
  },
  {
   "cell_type": "code",
   "execution_count": null,
   "id": "3552936b",
   "metadata": {},
   "outputs": [],
   "source": []
  },
  {
   "cell_type": "code",
   "execution_count": null,
   "id": "ebbd89e5",
   "metadata": {},
   "outputs": [],
   "source": []
  },
  {
   "cell_type": "markdown",
   "id": "eaacff37",
   "metadata": {},
   "source": [
    "# References\n",
    "\n",
    "## G calculation substitude exponential\n",
    "\n",
    "https://www.gurobi.com/documentation/10.0/refman/py_model_agc_exp.html\n",
    "\n",
    "https://support.gurobi.com/hc/en-us/community/posts/360077178491-Build-an-objective-function-with-Log-and-Exponential-inside-\n",
    "\n",
    "https://support.gurobi.com/hc/en-us/community/posts/10481250723217-How-to-add-log-and-exponential-term-in-objective-function\n"
   ]
  },
  {
   "cell_type": "markdown",
   "id": "61f48753",
   "metadata": {},
   "source": []
  },
  {
   "cell_type": "markdown",
   "id": "165d2f6d",
   "metadata": {},
   "source": []
  }
 ],
 "metadata": {
  "kernelspec": {
   "display_name": "Python 3 (ipykernel)",
   "language": "python",
   "name": "python3"
  },
  "language_info": {
   "codemirror_mode": {
    "name": "ipython",
    "version": 3
   },
   "file_extension": ".py",
   "mimetype": "text/x-python",
   "name": "python",
   "nbconvert_exporter": "python",
   "pygments_lexer": "ipython3",
   "version": "3.9.18"
  }
 },
 "nbformat": 4,
 "nbformat_minor": 5
}
