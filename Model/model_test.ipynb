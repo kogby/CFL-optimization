{
 "cells": [
  {
   "cell_type": "code",
   "execution_count": 3,
   "id": "586630ca-1e5e-492c-ab8b-bcda5a6f615f",
   "metadata": {
    "tags": []
   },
   "outputs": [
    {
     "ename": "ModuleNotFoundError",
     "evalue": "No module named 'gurobipy'",
     "output_type": "error",
     "traceback": [
      "\u001b[1;31m---------------------------------------------------------------------------\u001b[0m",
      "\u001b[1;31mModuleNotFoundError\u001b[0m                       Traceback (most recent call last)",
      "Cell \u001b[1;32mIn[3], line 4\u001b[0m\n\u001b[0;32m      2\u001b[0m \u001b[38;5;28;01mimport\u001b[39;00m \u001b[38;5;21;01mdatetime\u001b[39;00m\n\u001b[0;32m      3\u001b[0m \u001b[38;5;28;01mimport\u001b[39;00m \u001b[38;5;21;01msys\u001b[39;00m\n\u001b[1;32m----> 4\u001b[0m \u001b[38;5;28;01mimport\u001b[39;00m \u001b[38;5;21;01mgurobipy\u001b[39;00m\n\u001b[0;32m      5\u001b[0m \u001b[38;5;28;01mfrom\u001b[39;00m \u001b[38;5;21;01mgurobipy\u001b[39;00m \u001b[38;5;28;01mimport\u001b[39;00m Model, GRB, quicksum\n\u001b[0;32m      6\u001b[0m sys\u001b[38;5;241m.\u001b[39mpath\u001b[38;5;241m.\u001b[39mappend(\u001b[38;5;124m'\u001b[39m\u001b[38;5;124m../\u001b[39m\u001b[38;5;124m'\u001b[39m) \n",
      "\u001b[1;31mModuleNotFoundError\u001b[0m: No module named 'gurobipy'"
     ]
    }
   ],
   "source": [
    "import time\n",
    "import datetime\n",
    "import sys\n",
    "import gurobipy\n",
    "from gurobipy import Model, GRB, quicksum\n",
    "sys.path.append('../') \n",
    "from utility import load_specific_yaml\n",
    "import models\n",
    "\n",
    "print(f\"python version: {sys.version}\")\n",
    "print(f\"gurobipy version: {gurobipy.gurobi.version()}\")"
   ]
  },
  {
   "cell_type": "code",
   "execution_count": null,
   "id": "32619ff1",
   "metadata": {},
   "outputs": [
    {
     "ename": "",
     "evalue": "",
     "output_type": "error",
     "traceback": [
      "\u001b[1;31mRunning cells with 'base (Python 3.11.4)' requires the ipykernel package.\n",
      "\u001b[1;31mRun the following command to install 'ipykernel' into the Python environment. \n",
      "\u001b[1;31mCommand: 'conda install -n base ipykernel --update-deps --force-reinstall'"
     ]
    }
   ],
   "source": [
    "# Load experiments yaml\n",
    "config = load_specific_yaml('instance_F_4.yaml')\n",
    "# config"
   ]
  },
  {
   "cell_type": "code",
   "execution_count": null,
   "id": "f8a75481",
   "metadata": {},
   "outputs": [
    {
     "ename": "",
     "evalue": "",
     "output_type": "error",
     "traceback": [
      "\u001b[1;31mRunning cells with 'base (Python 3.11.4)' requires the ipykernel package.\n",
      "\u001b[1;31mRun the following command to install 'ipykernel' into the Python environment. \n",
      "\u001b[1;31mCommand: 'conda install -n base ipykernel --update-deps --force-reinstall'"
     ]
    }
   ],
   "source": [
    "# 直接加入e進去utility\n",
    "model = models.OG_GE_RF2(config)\n",
    "# model = models.OG_RF_1_G(config)\n",
    "\n",
    "model.optimize()\n",
    "print('\\n##################\\nObj: %g \\n##################\\n' % model.objVal)\n",
    "\n",
    "if model.status == GRB.OPTIMAL:\n",
    "    print(\"Optimal solution found.\")\n",
    "else:\n",
    "    print(\"No optimal solution found.\")\n",
    "#     model.computeIIS()\n",
    "#     # 将IIS输出到文件\n",
    "#     # model.write(\"model_iis.mps\")\n",
    "#     # print(\"IIS written to file 'model_iis.mps'\")"
   ]
  },
  {
   "cell_type": "code",
   "execution_count": null,
   "id": "172a89b5",
   "metadata": {},
   "outputs": [
    {
     "ename": "",
     "evalue": "",
     "output_type": "error",
     "traceback": [
      "\u001b[1;31mRunning cells with 'base (Python 3.11.4)' requires the ipykernel package.\n",
      "\u001b[1;31mRun the following command to install 'ipykernel' into the Python environment. \n",
      "\u001b[1;31mCommand: 'conda install -n base ipykernel --update-deps --force-reinstall'"
     ]
    }
   ],
   "source": [
    "for var in model.getVars():\n",
    "    print(f\"{var.varName} = {var.x}\")"
   ]
  },
  {
   "cell_type": "markdown",
   "id": "eaacff37",
   "metadata": {},
   "source": [
    "# References\n",
    "\n",
    "## G calculation substitude exponential\n",
    "\n",
    "https://www.gurobi.com/documentation/10.0/refman/py_model_agc_exp.html\n",
    "\n",
    "https://support.gurobi.com/hc/en-us/community/posts/360077178491-Build-an-objective-function-with-Log-and-Exponential-inside-\n",
    "\n",
    "https://support.gurobi.com/hc/en-us/community/posts/10481250723217-How-to-add-log-and-exponential-term-in-objective-function\n"
   ]
  }
 ],
 "metadata": {
  "kernelspec": {
   "display_name": "Python 3 (ipykernel)",
   "language": "python",
   "name": "python3"
  },
  "language_info": {
   "codemirror_mode": {
    "name": "ipython",
    "version": 3
   },
   "file_extension": ".py",
   "mimetype": "text/x-python",
   "name": "python",
   "nbconvert_exporter": "python",
   "pygments_lexer": "ipython3",
   "version": "3.8.18"
  }
 },
 "nbformat": 4,
 "nbformat_minor": 5
}
