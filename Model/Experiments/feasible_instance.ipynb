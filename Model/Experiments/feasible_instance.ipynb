{
 "cells": [
  {
   "cell_type": "code",
   "execution_count": null,
   "metadata": {},
   "outputs": [],
   "source": [
    "'''\n",
    "Instance Parameters\n",
    "===============================\n",
    "Customer Location: I\n",
    "Facility Location: J\n",
    "Resource Type: K\n",
    "Competitor Facility Location: L\n",
    "\n",
    "U_LT : Max amount of resource k allowed to be allocated to facility j, Dim : (j, k)\n",
    "U_T : Max allocation limit for resource k, Dim : (k)\n",
    "U_L : Max capacity for facility j, Dim : (j)\n",
    "V : Attractiveness yield of resource k allocated to facility j, Dim : (j, k)\n",
    "H : Max demand for customer i, Dim : (i)\n",
    "D : Distance between customer i and facility j , Dim : (i, j)\n",
    "D_comp : Distance between customer i and competitor l, Dim : (i, l)\n",
    "F : Fixed cost for building facility j, Dim : (j)\n",
    "C : Cost per unit of extra attractiveness at facility j, Dim : (j)\n",
    "B : Cost of allocating a unit of resource k to facility j, Dim : (j, k)\n",
    "===============================\n",
    "'''"
   ]
  },
  {
   "cell_type": "code",
   "execution_count": null,
   "metadata": {},
   "outputs": [],
   "source": [
    "# config = {  # 2客戶 1設施\n",
    "#     'M': 1000,  # 最多的a可以多少\n",
    "#     'lambda_for_G': 6e-6,\n",
    "#     'i_amount' :2, # 客戶\n",
    "#     'j_amount' :1, # 設廠地點\n",
    "#     'k_amount' :1, # 可分配資源（大車, 小車)\n",
    "#     'l_amount' :1, # 對手數量\n",
    "#     'U_LT': [[2]], # Max amount of resource k allowed to be allocated to facility j, Dim : (j, k)\n",
    "#     'U_T': [3],  # Max allocation limit for resource k, Dim : (k)\n",
    "#     'U_L': [3],  # Max capacity for facility j, Dim : (j)\n",
    "#     'V': [[5000]],\n",
    "#     'H': [100, 5000],\n",
    "#     'D': [[2], [1]],\n",
    "#     'D_comp':[[1], [1]],\n",
    "#     'A_opponent_bar': [100], #對手吸引力\n",
    "#     'F': [1],\n",
    "#     'C': [0.02], \n",
    "#     'B': [[0.1]],\n",
    "# }"
   ]
  },
  {
   "cell_type": "code",
   "execution_count": null,
   "metadata": {},
   "outputs": [],
   "source": [
    "config = {  # 2客戶 3設施j\n",
    "    'M': 1000,  # 最多的a可以多少\n",
    "    'lambda_for_G': 6e-6,\n",
    "    'i_amount' :2, # 客戶\n",
    "    'j_amount' :3, # 設廠地點\n",
    "    'k_amount' :1, # 可分配資源（大車, 小車)\n",
    "    'l_amount' :1, # 對手數量\n",
    "    'U_LT': [[2], [3], [4]], # Max amount of resource k allowed to be allocated to facility j, Dim : (j, k)\n",
    "    'U_T': [6],  # Max allocation limit for resource k, Dim : (k)\n",
    "    'U_L': [3, 3, 3],  # Max capacity for facility j, Dim : (j)\n",
    "    'V': [[5000], [4000], [3000]],  # Attractiveness yield of resource k allocated to facility j, Dim : (j, k)\n",
    "    'H': [100, 5000],  # Max demand for customer i, Dim : (i)\n",
    "    'D': [[3.33, 40.55, 555.1111], [5, 4, 3]],\n",
    "    'D_comp':[[10.22], [11111]],\n",
    "    'A_opponent_bar': [49], #對手吸引力\n",
    "    'F': [1, 2, 1],\n",
    "    'C': [0.02, 0.01, 1], \n",
    "    'B': [[0.1], [0.5], [0.3]],\n",
    "}"
   ]
  }
 ],
 "metadata": {
  "language_info": {
   "name": "python"
  }
 },
 "nbformat": 4,
 "nbformat_minor": 2
}
