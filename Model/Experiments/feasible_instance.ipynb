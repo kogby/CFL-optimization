{
 "cells": [
  {
   "cell_type": "code",
   "execution_count": null,
   "metadata": {},
   "outputs": [],
   "source": [
    "# config = {  # 2客戶 1設施\n",
    "#     'M': 1000,  # 最多的a可以多少\n",
    "#     'lambda_for_G': 6e-6,\n",
    "#     'i_amount' :2, # 客戶\n",
    "#     'j_amount' :1, # 設廠地點\n",
    "#     'k_amount' :1, # 可分配資源（大車, 小車)\n",
    "#     'l_amount' :1, # 對手數量\n",
    "#     'U_LT': [[2]], # Max amount of resource k allowed to be allocated to facility j, Dim : (j, k)\n",
    "#     'U_T': [3],  # Max allocation limit for resource k, Dim : (k)\n",
    "#     'U_L': [3],  # Max capacity for facility j, Dim : (j)\n",
    "#     'V': [[5000]],\n",
    "#     'H': [100, 5000],\n",
    "#     'D': [[2], [1]],\n",
    "#     'D_comp':[[1], [1]],\n",
    "#     'A_opponent_bar': [100], #對手吸引力\n",
    "#     'F': [1],\n",
    "#     'C': [0.02], \n",
    "#     'B': [[0.1]],\n",
    "# }"
   ]
  }
 ],
 "metadata": {
  "language_info": {
   "name": "python"
  }
 },
 "nbformat": 4,
 "nbformat_minor": 2
}
