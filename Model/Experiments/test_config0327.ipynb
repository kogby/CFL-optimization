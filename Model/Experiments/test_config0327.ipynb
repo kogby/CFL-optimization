{
 "cells": [
  {
   "cell_type": "code",
   "execution_count": 25,
   "id": "586630ca-1e5e-492c-ab8b-bcda5a6f615f",
   "metadata": {
    "tags": []
   },
   "outputs": [
    {
     "name": "stdout",
     "output_type": "stream",
     "text": [
      "python version: 3.9.18 (main, Sep 11 2023, 08:38:23) \n",
      "[Clang 14.0.6 ]\n",
      "gurobipy version: (11, 0, 0)\n"
     ]
    }
   ],
   "source": [
    "import time\n",
    "import datetime\n",
    "import os\n",
    "import yaml\n",
    "import math\n",
    "import sys\n",
    "import gurobipy\n",
    "import pandas as pd\n",
    "import numpy as np\n",
    "from gurobipy import Model, GRB, quicksum\n",
    "\n",
    "print(f\"python version: {sys.version}\")\n",
    "print(f\"gurobipy version: {gurobipy.gurobi.version()}\")\n"
   ]
  },
  {
   "cell_type": "code",
   "execution_count": 26,
   "id": "32619ff1",
   "metadata": {},
   "outputs": [
    {
     "data": {
      "text/plain": [
       "{'A_opponent_bar': [96],\n",
       " 'B': [[2], [1], [1]],\n",
       " 'C': [3, 2, 2],\n",
       " 'D': [[59.2, 32.2, 35.69], [54.49, 64.54, 64.76]],\n",
       " 'D_comp': [[23.32], [59.46]],\n",
       " 'F': [6, 6, 5],\n",
       " 'H': [39, 36],\n",
       " 'M': 1000000,\n",
       " 'U_L': [14, 8, 14],\n",
       " 'U_LT': [[1], [5], [4]],\n",
       " 'U_T': [5],\n",
       " 'V': [[6], [18], [5]],\n",
       " 'i_amount': 2,\n",
       " 'j_amount': 3,\n",
       " 'k_amount': 1,\n",
       " 'l_amount': 1,\n",
       " 'lambda_for_G': 6e-06}"
      ]
     },
     "execution_count": 26,
     "metadata": {},
     "output_type": "execute_result"
    }
   ],
   "source": [
    "# 直接添加已知的相对路径到 sys.path\n",
    "sys.path.append('../../') \n",
    "from path_config import INSTANCES_DIR\n",
    "def load_specific_yaml(filename):\n",
    "    \"\"\"\n",
    "    加載指定的 YAML 檔案。\n",
    "    \n",
    "    Parameters:\n",
    "    filename (str): 在 instances 資料夾中的 YAML 檔案名。\n",
    "    \n",
    "    Returns:\n",
    "    dict: YAML 檔案內容。\n",
    "    \"\"\"\n",
    "    file_path = os.path.join(INSTANCES_DIR, filename)\n",
    "    with open(file_path, 'r') as file:\n",
    "        data = yaml.safe_load(file)\n",
    "    return data\n",
    "\n",
    "config = load_specific_yaml('instance_F_3.yaml')\n",
    "# config['V'] = [[value[0] * 100] for value in config['V']]\n",
    "config"
   ]
  },
  {
   "cell_type": "code",
   "execution_count": 27,
   "id": "b1f1a32d-1a41-46c2-9b41-914788e9e20d",
   "metadata": {},
   "outputs": [
    {
     "data": {
      "text/plain": [
       "'\\nDecision Variables\\n===============================\\ny : Whether location j build facility or not, Dim: (j) , BINARY\\nx : The amount of resource k allocated to location j, Dim: (j,k), CONTINUOUS\\naX : Extra attractiveness allocated to location j, Dim: (j), CONTINUOUS\\n===============================\\n\\nOther Variables\\nu : Utility of facility j to customer point i, Dim:(i, j), CONTINUOUS\\nP : Probability of customer i choosing facility j, Dim : (i, j), CONTINUOUS\\nTA : Total Attractiveness for customer location i, Dim : (i), CONTINUOUS\\n===============================\\n'"
      ]
     },
     "execution_count": 27,
     "metadata": {},
     "output_type": "execute_result"
    }
   ],
   "source": [
    "I = set(range(0, config['i_amount']))  \n",
    "J = set(range(0, config['j_amount']))  \n",
    "K = set(range(0, config['k_amount']))  \n",
    "L = set(range(0, config['l_amount']))  \n",
    "'''\n",
    "Decision Variables\n",
    "===============================\n",
    "y : Whether location j build facility or not, Dim: (j) , BINARY\n",
    "x : The amount of resource k allocated to location j, Dim: (j,k), CONTINUOUS\n",
    "aX : Extra attractiveness allocated to location j, Dim: (j), CONTINUOUS\n",
    "===============================\n",
    "\n",
    "Other Variables\n",
    "u : Utility of facility j to customer point i, Dim:(i, j), CONTINUOUS\n",
    "P : Probability of customer i choosing facility j, Dim : (i, j), CONTINUOUS\n",
    "TA : Total Attractiveness for customer location i, Dim : (i), CONTINUOUS\n",
    "===============================\n",
    "'''"
   ]
  },
  {
   "cell_type": "code",
   "execution_count": 28,
   "id": "e63f71a6-0f61-48fe-9a26-35060a0bd732",
   "metadata": {},
   "outputs": [
    {
     "name": "stdout",
     "output_type": "stream",
     "text": [
      "Set parameter NumericFocus to value 3\n",
      "Gurobi Optimizer version 11.0.0 build v11.0.0rc2 (mac64[x86] - Darwin 22.5.0 22F66)\n",
      "\n",
      "CPU model: Intel(R) Core(TM) i5-1038NG7 CPU @ 2.00GHz\n",
      "Thread count: 4 physical cores, 8 logical processors, using up to 8 threads\n",
      "\n",
      "Optimize a model with 20 rows, 27 columns and 48 nonzeros\n",
      "Model fingerprint: 0x0d7cdfc9\n",
      "Model has 6 quadratic objective terms\n",
      "Model has 6 quadratic constraints\n",
      "Model has 2 general constraints\n",
      "Variable types: 24 continuous, 3 integer (3 binary)\n",
      "Coefficient statistics:\n",
      "  Matrix range     [6e-06, 1e+06]\n",
      "  QMatrix range    [1e+00, 1e+00]\n",
      "  QLMatrix range   [1e+00, 1e+00]\n",
      "  Objective range  [1e+00, 4e+01]\n",
      "  QObjective range [7e+01, 8e+01]\n",
      "  Bounds range     [1e-08, 1e+08]\n",
      "  RHS range        [3e-02, 1e+01]\n",
      "Presolve added 0 rows and 47 columns\n",
      "Presolve time: 0.00s\n",
      "Presolved: 57 rows, 81 columns, 287 nonzeros\n",
      "Presolved model has 2 SOS constraint(s)\n",
      "Presolved model has 12 bilinear constraint(s)\n",
      "\n",
      "Solving non-convex MIQCP\n",
      "\n",
      "Variable types: 78 continuous, 3 integer (3 binary)\n",
      "Found heuristic solution: objective -139543.9244\n",
      "\n",
      "Root relaxation: objective -1.384588e+05, 32 iterations, 0.00 seconds (0.00 work units)\n",
      "\n",
      "    Nodes    |    Current Node    |     Objective Bounds      |     Work\n",
      " Expl Unexpl |  Obj  Depth IntInf | Incumbent    BestBd   Gap | It/Node Time\n",
      "\n",
      "     0     0 -138458.77    0    2 -139543.92 -138458.77  0.78%     -    0s\n",
      "H    0     0                    -138458.7683 -138458.77  0.00%     -    0s\n",
      "\n",
      "Explored 1 nodes (32 simplex iterations) in 0.03 seconds (0.00 work units)\n",
      "Thread count was 8 (of 8 available processors)\n",
      "\n",
      "Solution count 2: -138459 -139544 \n",
      "\n",
      "Optimal solution found (tolerance 1.00e-04)\n",
      "Warning: max constraint violation (7.2609e-06) exceeds tolerance\n",
      "Warning: max general constraint violation (7.2609e-06) exceeds tolerance\n",
      "Best objective -1.384587682979e+05, best bound -1.384587682629e+05, gap 0.0000%\n",
      "Optimal solution found.\n"
     ]
    }
   ],
   "source": [
    "# Initialize the model\n",
    "model = Model(\"Competitive Facility Location\")\n",
    "model.setParam('NumericFocus', 3)\n",
    "y = model.addVars(J, vtype=GRB.BINARY, name=\"y\") #3.14\n",
    "x = model.addVars(J, K, vtype=GRB.CONTINUOUS, name=\"x\", lb=0, ub=100000) # 3.12\n",
    "aX = model.addVars(J, vtype=GRB.CONTINUOUS, name=\"aX\", lb=0, ub=100000) # 3.13\n",
    "\n",
    "u = model.addVars(I, J, vtype=GRB.CONTINUOUS, name=\"utility(u)\", lb=0, ub=100000) # utility var(3.5)\n",
    "P = model.addVars(I, J, vtype=GRB.CONTINUOUS, name=\"P, utility vs TA ratio\", lb=0.0, ub=1.0) # Probability of i choosing j\n",
    "TA = model.addVars(I, vtype=GRB.CONTINUOUS, name=\"TA\", lb=0.00000001, ub=100000000)\n",
    "TAi_lambda = model.addVars(I, vtype=GRB.CONTINUOUS, name=\"negative TAi*lambda(e's power)\", lb= -1000000, ub= -0.0000001) #-lambda*TAi\n",
    "G_exp_vars = model.addVars(I, vtype=GRB.CONTINUOUS, name=\"G_exp_vars\", lb=0.0001, ub=0.9999) #e^-(lambda*TAi), ub=0.5\n",
    "\n",
    "model.update()\n",
    "\n",
    "model.addConstrs((x[j, k] <= config['U_LT'][j][k] * y[j] for j in J for k in K), \"(3.1) Resource only for built facility, and amount of type k for facility j is limit at U_LT[j, k]\")\n",
    "model.addConstrs((quicksum(x[j, k] for j in J) <= config['U_T'][k] for k in K), \"(3.2) The total amount of resource k is U_T[k]\")\n",
    "model.addConstrs((quicksum(x[j, k] for k in K) <= config['U_L'][j] for j in J), \"(3.3) The max resource sum for facility j is U_L[j]\")\n",
    "model.addConstrs((aX[j] <= config['M'] * y[j] for j in J), \"(3.4) Extra Attractiveness Limit\")\n",
    "\n",
    "model.addConstrs((u[i, j] == ((quicksum(config['V'][j][k] * x[j, k] for k in K) + aX[j]) / (config['D'][i][j]**2)) for i in I for j in J), \"(3.5) utility for facility j to customer i\")\n",
    "model.addConstrs((u[i, j] == P[i, j] * TA[i] for i in I for j in J), \"(3.8) calculate P by uij/TAi, 分母要是常數所以用乘的\")\n",
    "## TA的限制式, 因為不能讓 G_exp中 addGenConstrExp內的變數為多個變數的線性組合所以要另外創TA變數\n",
    "model.addConstrs((TA[i] == quicksum(u[i, j] for j in J) + (quicksum(config['A_opponent_bar'][l] / (config['D_comp'][i][l]**2) for l in L)) for i in I), \"(3.7) calculate total TA by u and A_bar\")\n",
    "\n",
    "## G的計算\n",
    "# def G(tai):\n",
    "#     return 1 - np.exp(-config['lambda_for_G'] * tai)\n",
    "model.addConstrs((TAi_lambda[i] == (-config['lambda_for_G'] * TA[i]) for i in I), \"negative tai*lambda constr\")\n",
    "# Gurobi無法直接在目標式有exponential\n",
    "for i in I:\n",
    "    model.addGenConstrExpA(TAi_lambda[i], G_exp_vars[i], math.e, name=f\"G_exp_constr_{i}\")\n",
    "\n",
    "\n",
    "\n",
    "# Objective function: Maximize profit by attracting customers - costs\n",
    "objective = ((quicksum(config['H'][i] * (1 - G_exp_vars[i]) * (quicksum(P[i, j] for j in J)) for i in I)) \\\n",
    "          - (quicksum(config['F'][j] * y[j] + config['C'][j] * aX[j] + quicksum(config['B'][j][k] * x[j, k] for k in K) for j in J)))\n",
    "model.setObjective(objective, GRB.MAXIMIZE)\n",
    "\n",
    "\n",
    "model.feasRelaxS(0, True, False, False)\n",
    "# Solve and Output\n",
    "model.optimize()\n",
    "if model.status == GRB.OPTIMAL:\n",
    "    print(\"Optimal solution found.\")\n",
    "else:\n",
    "    print(\"No optimal solution found.\")\n",
    "    model.computeIIS()\n",
    "    model.write(\"model.ilp\")\n",
    "    model.write(\"model_iis.mps\")\n",
    "    print(\"IIS written to file.\")\n",
    "\n"
   ]
  },
  {
   "cell_type": "code",
   "execution_count": 29,
   "id": "a1040dc7-9f6f-44e0-a539-67d3e7a44445",
   "metadata": {},
   "outputs": [
    {
     "name": "stdout",
     "output_type": "stream",
     "text": [
      "y[0] = -0.0\n",
      "y[1] = 1.0\n",
      "y[2] = -0.0\n",
      "x[0,0] = 0.0\n",
      "x[1,0] = 5.0\n",
      "x[2,0] = 0.0\n",
      "aX[0] = 0.0\n",
      "aX[1] = 69223.89362483048\n",
      "aX[2] = 0.0\n",
      "utility(u)[0,0] = 0.0\n",
      "utility(u)[0,1] = 66.85109913277888\n",
      "utility(u)[0,2] = 0.0\n",
      "utility(u)[1,0] = 0.0\n",
      "utility(u)[1,1] = 16.640346808663633\n",
      "utility(u)[1,2] = 0.0\n",
      "P, utility vs TA ratio[0,0] = 0.0\n",
      "P, utility vs TA ratio[0,1] = 0.9973663364424471\n",
      "P, utility vs TA ratio[0,2] = 0.0\n",
      "P, utility vs TA ratio[1,0] = 0.0\n",
      "P, utility vs TA ratio[1,1] = 0.998370887940263\n",
      "P, utility vs TA ratio[1,2] = 0.0\n",
      "TA[0] = 67.02762735228585\n",
      "TA[1] = 16.667500033974648\n",
      "negative TAi*lambda(e's power)[0] = -0.0004021657641137151\n",
      "negative TAi*lambda(e's power)[1] = -0.00010000500020384789\n",
      "G_exp_vars[0] = 0.9996051760411743\n",
      "G_exp_vars[1] = 0.9999000000001264\n",
      "\n"
     ]
    }
   ],
   "source": [
    "for var in model.getVars():\n",
    "    print(f\"{var.varName} = {var.x}\")\n",
    "print(\"\")"
   ]
  },
  {
   "cell_type": "markdown",
   "id": "eaacff37",
   "metadata": {},
   "source": [
    "# References\n",
    "\n",
    "## G calculation substitude exponential\n",
    "\n",
    "https://www.gurobi.com/documentation/10.0/refman/py_model_agc_exp.html\n",
    "\n",
    "https://support.gurobi.com/hc/en-us/community/posts/360077178491-Build-an-objective-function-with-Log-and-Exponential-inside-\n",
    "\n",
    "https://support.gurobi.com/hc/en-us/community/posts/10481250723217-How-to-add-log-and-exponential-term-in-objective-function\n"
   ]
  },
  {
   "cell_type": "markdown",
   "id": "61f48753",
   "metadata": {},
   "source": []
  },
  {
   "cell_type": "markdown",
   "id": "165d2f6d",
   "metadata": {},
   "source": []
  }
 ],
 "metadata": {
  "kernelspec": {
   "display_name": "Python 3 (ipykernel)",
   "language": "python",
   "name": "python3"
  },
  "language_info": {
   "codemirror_mode": {
    "name": "ipython",
    "version": 3
   },
   "file_extension": ".py",
   "mimetype": "text/x-python",
   "name": "python",
   "nbconvert_exporter": "python",
   "pygments_lexer": "ipython3",
   "version": "3.9.18"
  }
 },
 "nbformat": 4,
 "nbformat_minor": 5
}
