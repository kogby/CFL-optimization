{
 "cells": [
  {
   "cell_type": "code",
   "execution_count": null,
   "metadata": {},
   "outputs": [],
   "source": [
    "# config \n",
    "{\n",
    "  'A_opponent_bar': [96],\n",
    "  'B': [[2], [1], [1]],\n",
    "  'C': [3, 2, 2],\n",
    "  'D': [[59.2, 32.2, 35.69], [54.49, 64.54, 64.76]],\n",
    "  'D_comp': [[23.32], [59.46]],\n",
    "  'F': [6, 6, 5],\n",
    "  'H': [39, 36],\n",
    "  'M': 1000000,\n",
    "  'U_L': [14, 8, 14],\n",
    "  'U_LT': [[1], [5], [4]],\n",
    "  'U_T': [5],\n",
    "  'V': [[6], [18], [5]],\n",
    "  'i_amount': 2,\n",
    "  'j_amount': 3,\n",
    "  'k_amount': 1,\n",
    "  'l_amount': 1,\n",
    "  'lambda_for_G': 6e-06\n",
    "}"
   ]
  },
  {
   "cell_type": "code",
   "execution_count": null,
   "metadata": {},
   "outputs": [],
   "source": [
    "# heuristic_greedy\n",
    "\"\"\"\n",
    "進步中 = true\n",
    "最佳W = 0\n",
    "已分配設施 = {...都是0}\n",
    "while 此輪還在進步 and 還有工廠能蓋\n",
    "    進步中 = false\n",
    "    此輪最佳W 暫時= 最佳W（前一輪的）\n",
    "    對每個可能的建立工廠點 j:\n",
    "        看看哪個車k對於這個點的V最大 一直塞到此點容納不下車or沒車可塞了，\n",
    "        剩下用decoration補滿（G最大133.4, E最大100), 此處塞滿E\n",
    "        計算總W (包含先前iter已蓋好之工廠點)\n",
    "        如果大於此輪最佳，記錄為此輪最佳，更新最佳蓋哪個點 j\n",
    "    如果此輪最佳W > 最佳W:\n",
    "        更新已分配設施用這個最佳設廠點j跟已分配設施\n",
    "        更新最佳W\n",
    "\"\"\"\n"
   ]
  }
 ],
 "metadata": {
  "language_info": {
   "name": "python"
  }
 },
 "nbformat": 4,
 "nbformat_minor": 2
}
