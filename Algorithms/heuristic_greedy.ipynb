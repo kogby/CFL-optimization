{
 "cells": [
  {
   "cell_type": "code",
   "execution_count": 41,
   "metadata": {},
   "outputs": [
    {
     "name": "stdout",
     "output_type": "stream",
     "text": [
      "[[467202, 92999], [193013, 204072], [49473, 227435], [257724, 51794], [402197, 13097]]\n",
      "5\n",
      "2\n",
      "[6, 6, 5, 9, 10]\n",
      "[[2, 4], [2, 4], [2, 4], [3, 2], [3, 1]]\n"
     ]
    }
   ],
   "source": [
    "import sys\n",
    "sys.path.append('../')\n",
    "import utility as util\n",
    "import copy\n",
    "\n",
    "config = util.load_specific_yaml('instance_F_1.yaml')\n",
    "# print(config)\n",
    "print(config['V'])\n",
    "print(config['j_amount'])\n",
    "print(config['k_amount'])\n",
    "print(config['U_L'])\n",
    "print(config['U_LT'])"
   ]
  },
  {
   "cell_type": "markdown",
   "metadata": {},
   "source": [
    "Build order: 0 4 1 2 3"
   ]
  },
  {
   "cell_type": "code",
   "execution_count": 51,
   "metadata": {},
   "outputs": [],
   "source": [
    "def E_function():\n",
    "\tpass\n",
    "def G_function():\n",
    "\tpass\n",
    "def greedy_best_location(config: dict, candidates: list):\n",
    "\tbest_util = 0\n",
    "\tbest_to_fill = []\n",
    "\tbest_loc = -1\n",
    "\t\n",
    "\t# Find the best location with most utility.\n",
    "\tfor ind, facility in enumerate(candidates):\n",
    "\t\t# print(f\"Now at {ind}th location:\")\n",
    "\t\tif facility == 0:\n",
    "\t\t\t# start filling with largest V\n",
    "\t\t\tcar_list = [(value, index) for index, value in enumerate(config['V'][ind])]\n",
    "\t\t\tsorted_car_list = sorted(car_list, reverse=True)\n",
    "\t\t\t# print(sorted_car_list)\n",
    "\t\t\t# The total resource allowed to be used in this location.\n",
    "\t\t\tquota_loc = copy.deepcopy(config['U_L'][ind])\n",
    "\t\t\t# The specific resource allowed to be used in this location.\n",
    "\t\t\tquota_loc_k = copy.deepcopy(config['U_LT'][ind])\n",
    "\t\t\t# print(f\"quota_loc_k : {quota_loc_k}\")\n",
    "\t\t\t# The total resource allowed to be used in this location.\n",
    "\t\t\tquota_k = copy.deepcopy(config['U_T'])\n",
    "\t\t\t# print(f\"quota_k: {quota_k}\")\n",
    "\n",
    "\t\t\tcur_to_fill = []\n",
    "\t\t\tcur_util = 0\n",
    "\t\t\twhile quota_loc > 0:\n",
    "\t\t\t\t# all resources are used up in this location.\n",
    "\t\t\t\tif(len(sorted_car_list) == 0):\n",
    "\t\t\t\t\tbreak\n",
    "\t\t\t\tcar_to_fill = sorted_car_list.pop(0)\n",
    "\n",
    "\t\t\t\t# The number allowed to fill is the minimum of these 3 limitations.\n",
    "\t\t\t\tnum_to_fill = min(quota_loc, quota_loc_k[car_to_fill[1]], quota_k[car_to_fill[1]])\n",
    "\t\t\t\t# print(num_to_fill)\n",
    "\t\t\t\t# print(car_to_fill)\n",
    "\t\t\t\tquota_k[car_to_fill[1]] -= num_to_fill\n",
    "\t\t\t\tquota_loc_k[car_to_fill[1]] -= num_to_fill\n",
    "\t\t\t\tquota_loc -= num_to_fill\n",
    "\t\t\t\t# quota_loc = 0\n",
    "\n",
    "\t\t\t\tcur_util += num_to_fill * car_to_fill[0]\n",
    "\n",
    "\t\t\t\t# Record the car index and the number of cars to fill.\n",
    "\t\t\t\tcur_to_fill.append((car_to_fill[1], num_to_fill))\n",
    "\n",
    "\t\t\tif (cur_util > best_util):\n",
    "\t\t\t\tbest_loc = ind\n",
    "\t\t\t\tbest_util = cur_util\n",
    "\t\t\t\tbest_to_fill = cur_to_fill\n",
    "\t\t\t\tprint(\"New best location found!\")\n",
    "\tprint(f\"Iteration ended! Find the best location: {best_loc}\")\n",
    "\tprint(f\"Best utility: {best_util}\")\n",
    "\treturn best_to_fill, best_util, best_loc\n",
    "\t\t\t\n",
    "\t\t\t\n",
    "\t\t\t\n",
    "\t\t\t"
   ]
  },
  {
   "cell_type": "code",
   "execution_count": 52,
   "metadata": {},
   "outputs": [
    {
     "name": "stdout",
     "output_type": "stream",
     "text": [
      "New best location found!\n",
      "Iteration ended! Find the best location: 0\n",
      "Best utility: 1306400\n",
      "loc_to_build 0\n",
      "New best location found!\n",
      "New best location found!\n",
      "Iteration ended! Find the best location: 4\n",
      "Best utility: 1219688\n",
      "loc_to_build 4\n",
      "New best location found!\n",
      "Iteration ended! Find the best location: 1\n",
      "Best utility: 1202314\n",
      "loc_to_build 1\n",
      "New best location found!\n",
      "Iteration ended! Find the best location: 2\n",
      "Best utility: 959213\n",
      "loc_to_build 2\n",
      "New best location found!\n",
      "Iteration ended! Find the best location: 3\n",
      "Best utility: 876760\n",
      "loc_to_build 3\n",
      "Iteration ended! Find the best location: -1\n",
      "Best utility: 0\n"
     ]
    }
   ],
   "source": [
    "# heuristic_greedy\n",
    "\"\"\"\n",
    "進步中 = true\n",
    "最佳W = 0\n",
    "已分配設施 = {...都是0}\n",
    "while 此輪還在進步 and 還有工廠能蓋\n",
    "    進步中 = false\n",
    "    此輪最佳W 暫時= 最佳W（前一輪的）\n",
    "    對每個可能的建立工廠點 j:\n",
    "        看看哪個車k對於這個點的V最大 一直塞到此點容納不下車or沒車可塞了，\n",
    "        剩下用decoration補滿（G最大133.4, E最大100), 此處塞滿E\n",
    "        計算總W (包含先前iter已蓋好之工廠點)\n",
    "        如果大於此輪最佳，記錄為此輪最佳，更新最佳蓋哪個點 j\n",
    "    如果此輪最佳obj > 最佳obj:\n",
    "        更新已分配設施用這個最佳設廠點j跟已分配設施\n",
    "        更新最佳obj\n",
    "\"\"\"\n",
    "improve = True\n",
    "best_obj = 0\n",
    "candidates = [0 for i in range(config['j_amount'])]\n",
    "while improve:\n",
    "\tcars_to_fill, _, loc_to_build = greedy_best_location(config, candidates)\n",
    "\tif loc_to_build == -1:\n",
    "\t\tbreak\n",
    "\t\n",
    "\tprint(\"loc_to_build\", loc_to_build)\n",
    "\tcandidates[loc_to_build] = 1\n",
    "\t\n",
    "    # TODO: calculate the objective function and update the best_obj\n",
    "\tcur_obj = 0\n",
    "\tif cur_obj > best_obj:\n",
    "\t\tbest_obj = cur_obj\n",
    "\telse:\n",
    "\t\timporve = False"
   ]
  },
  {
   "cell_type": "code",
   "execution_count": null,
   "metadata": {},
   "outputs": [
    {
     "name": "stdout",
     "output_type": "stream",
     "text": [
      "Sorted values: [9, 6, 3, 2, 1]\n",
      "Original indices of sorted values: [3, 1, 0, 4, 2]\n"
     ]
    }
   ],
   "source": [
    "def sort_with_index(lst):\n",
    "    indexed_list = [(value, index) for index, value in enumerate(lst)]\n",
    "    sorted_list = sorted(indexed_list, reverse=True)\n",
    "    sorted_indices = [index for value, index in sorted_list]\n",
    "    sorted_values = [value for value, index in sorted_list]\n",
    "    return sorted_values, sorted_indices\n",
    "\n",
    "# Example usage:\n",
    "my_list = [3, 6, 1, 9, 2]\n",
    "sorted_values, sorted_indices = sort_with_index(my_list)\n",
    "print(\"Sorted values:\", sorted_values)\n",
    "print(\"Original indices of sorted values:\", sorted_indices)\n"
   ]
  },
  {
   "cell_type": "code",
   "execution_count": null,
   "metadata": {},
   "outputs": [],
   "source": []
  }
 ],
 "metadata": {
  "kernelspec": {
   "display_name": "Jupyter",
   "language": "python",
   "name": "python3"
  },
  "language_info": {
   "codemirror_mode": {
    "name": "ipython",
    "version": 3
   },
   "file_extension": ".py",
   "mimetype": "text/x-python",
   "name": "python",
   "nbconvert_exporter": "python",
   "pygments_lexer": "ipython3",
   "version": "3.8.18"
  }
 },
 "nbformat": 4,
 "nbformat_minor": 2
}
