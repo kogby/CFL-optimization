{
 "cells": [
  {
   "cell_type": "code",
   "execution_count": 10,
   "metadata": {},
   "outputs": [
    {
     "name": "stdout",
     "output_type": "stream",
     "text": [
      "[[118429, 206843, 228891], [304506, 272310, 271326], [150915, 56261, 206380], [273035, 25288, 131093], [269547, 202219, 316429], [293500, 72203, 149248], [385467, 469837, 106747], [79615, 173705, 105400], [489018, 471679, 247909], [453965, 35130, 143000], [161513, 481068, 18194], [264545, 287004, 344100], [37815, 234839, 365419], [56699, 116409, 323932], [252101, 305304, 269387], [193266, 158863, 342020], [53664, 331874, 307457], [487637, 324810, 183427], [299385, 233792, 287873], [161098, 312557, 283906]]\n",
      "20\n",
      "3\n"
     ]
    }
   ],
   "source": [
    "import sys\n",
    "sys.path.append('../')\n",
    "import utility as util\n",
    "\n",
    "config = util.load_specific_yaml('instance_F_1.yaml')\n",
    "# print(config)\n",
    "print(config['V'])\n",
    "print(config['j_amount'])\n",
    "print(config['k_amount'])"
   ]
  },
  {
   "cell_type": "code",
   "execution_count": 16,
   "metadata": {},
   "outputs": [],
   "source": [
    "def E_function():\n",
    "\tpass\n",
    "def G_function():\n",
    "\tpass\n",
    "def greedy_best_location(config: dict, candidates: list):\n",
    "\tbest_util = 0\n",
    "\t# Find the best location with most utility.\n",
    "\tfor ind, facility in enumerate(candidates):\n",
    "\t\tif facility != 0:\n",
    "\t\t\t# start filling with largest V\n",
    "\t\t\tcar_list = [(value, index) for index, value in enumerate(config['V'][ind])]\n",
    "\t\t\tsorted_car_list = sorted(car_list, reverse=True)\n",
    "\t\t\t\n",
    "\t\t\t\n",
    "\t\t\t"
   ]
  },
  {
   "cell_type": "code",
   "execution_count": 5,
   "metadata": {},
   "outputs": [
    {
     "ename": "TabError",
     "evalue": "inconsistent use of tabs and spaces in indentation (2648499688.py, line 27)",
     "output_type": "error",
     "traceback": [
      "\u001b[0;36m  Cell \u001b[0;32mIn[5], line 27\u001b[0;36m\u001b[0m\n\u001b[0;31m    best_W = cur_w\u001b[0m\n\u001b[0m    ^\u001b[0m\n\u001b[0;31mTabError\u001b[0m\u001b[0;31m:\u001b[0m inconsistent use of tabs and spaces in indentation\n"
     ]
    }
   ],
   "source": [
    "# heuristic_greedy\n",
    "\"\"\"\n",
    "進步中 = true\n",
    "最佳W = 0\n",
    "已分配設施 = {...都是0}\n",
    "while 此輪還在進步 and 還有工廠能蓋\n",
    "    進步中 = false\n",
    "    此輪最佳W 暫時= 最佳W（前一輪的）\n",
    "    對每個可能的建立工廠點 j:\n",
    "        看看哪個車k對於這個點的V最大 一直塞到此點容納不下車or沒車可塞了，\n",
    "        剩下用decoration補滿（G最大133.4, E最大100), 此處塞滿E\n",
    "        計算總W (包含先前iter已蓋好之工廠點)\n",
    "        如果大於此輪最佳，記錄為此輪最佳，更新最佳蓋哪個點 j\n",
    "    如果此輪最佳obj > 最佳obj:\n",
    "        更新已分配設施用這個最佳設廠點j跟已分配設施\n",
    "        更新最佳obj\n",
    "\"\"\"\n",
    "improve = True\n",
    "best_obj = 0\n",
    "candidates = [0 for i in range(config['j_amount'])]\n",
    "while improve:\n",
    "\tloc_to_build = greedy_best_location(config, candidates)\n",
    "\tcur_obj = 0\n",
    "\t\t\t\n",
    "\tif cur_obj > best_obj:\n",
    "        best_obj = cur_obj\n",
    "        best_facility = ind"
   ]
  },
  {
   "cell_type": "code",
   "execution_count": 18,
   "metadata": {},
   "outputs": [
    {
     "name": "stdout",
     "output_type": "stream",
     "text": [
      "Sorted values: [9, 6, 3, 2, 1]\n",
      "Original indices of sorted values: [3, 1, 0, 4, 2]\n"
     ]
    }
   ],
   "source": [
    "def sort_with_index(lst):\n",
    "    indexed_list = [(value, index) for index, value in enumerate(lst)]\n",
    "    sorted_list = sorted(indexed_list, reverse=True)\n",
    "    sorted_indices = [index for value, index in sorted_list]\n",
    "    sorted_values = [value for value, index in sorted_list]\n",
    "    return sorted_values, sorted_indices\n",
    "\n",
    "# Example usage:\n",
    "my_list = [3, 6, 1, 9, 2]\n",
    "sorted_values, sorted_indices = sort_with_index(my_list)\n",
    "print(\"Sorted values:\", sorted_values)\n",
    "print(\"Original indices of sorted values:\", sorted_indices)\n"
   ]
  },
  {
   "cell_type": "code",
   "execution_count": null,
   "metadata": {},
   "outputs": [],
   "source": []
  }
 ],
 "metadata": {
  "kernelspec": {
   "display_name": "Jupyter",
   "language": "python",
   "name": "python3"
  },
  "language_info": {
   "codemirror_mode": {
    "name": "ipython",
    "version": 3
   },
   "file_extension": ".py",
   "mimetype": "text/x-python",
   "name": "python",
   "nbconvert_exporter": "python",
   "pygments_lexer": "ipython3",
   "version": "3.9.18"
  }
 },
 "nbformat": 4,
 "nbformat_minor": 2
}
