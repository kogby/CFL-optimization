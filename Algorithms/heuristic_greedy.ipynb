{
 "cells": [
  {
   "cell_type": "code",
   "execution_count": null,
   "metadata": {},
   "outputs": [],
   "source": [
    "import sys\n",
    "sys.path.append('../')\n",
    "import utility as util\n",
    "\n",
    "config = util.load_specific_yaml('instance_F_1.yaml')"
   ]
  },
  {
   "cell_type": "code",
   "execution_count": null,
   "metadata": {},
   "outputs": [],
   "source": [
    "# heuristic_greedy\n",
    "\"\"\"\n",
    "進步中 = true\n",
    "最佳W = 0\n",
    "已分配設施 = {...都是0}\n",
    "while 此輪還在進步 and 還有工廠能蓋\n",
    "    進步中 = false\n",
    "    此輪最佳W 暫時= 最佳W（前一輪的）\n",
    "    對每個可能的建立工廠點 j:\n",
    "        看看哪個車k對於這個點的V最大 一直塞到此點容納不下車or沒車可塞了，\n",
    "        剩下用decoration補滿（G最大133.4, E最大100), 此處塞滿E\n",
    "        計算總W (包含先前iter已蓋好之工廠點)\n",
    "        如果大於此輪最佳，記錄為此輪最佳，更新最佳蓋哪個點 j\n",
    "    如果此輪最佳W > 最佳W:\n",
    "        更新已分配設施用這個最佳設廠點j跟已分配設施\n",
    "        更新最佳W\n",
    "\"\"\"\n"
   ]
  }
 ],
 "metadata": {
  "language_info": {
   "name": "python"
  }
 },
 "nbformat": 4,
 "nbformat_minor": 2
}
